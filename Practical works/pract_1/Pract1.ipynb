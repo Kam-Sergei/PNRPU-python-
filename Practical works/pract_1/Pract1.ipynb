{
 "cells": [
  {
   "cell_type": "code",
   "execution_count": 16,
   "metadata": {},
   "outputs": [],
   "source": [
    "import random\n",
    "import string"
   ]
  },
  {
   "cell_type": "code",
   "execution_count": null,
   "metadata": {},
   "outputs": [
    {
     "name": "stdout",
     "output_type": "stream",
     "text": [
      "Исходный список: [14, 19, 98, 14, 29, 80, 74, 96, 56, 50]\n",
      "Перевернутый список: [50, 56, 96, 74, 80, 29, 14, 98, 19, 14]\n"
     ]
    }
   ],
   "source": [
    "#1. Сгенерировать, используя модуль псевдослучайных чисел random , или ввести с клавиатуры список целых чисел. \n",
    "# Вывести в консоль, затем перевернуть его и снова вывести в консоль.\n",
    "\n",
    "n = int(input(\"Введите количество элементов в списке: \"))\n",
    "numbers = [random.randint(1, 100) for _ in range(n)]\n",
    "print(\"Исходный список:\", numbers)\n",
    "reversed_numbers = numbers[::-1]\n",
    "print(\"Перевернутый список:\", reversed_numbers)"
   ]
  },
  {
   "cell_type": "code",
   "execution_count": 14,
   "metadata": {},
   "outputs": [
    {
     "name": "stdout",
     "output_type": "stream",
     "text": [
      "Первый список: [36, 11, 59, 32, 22, 29, 21, 12, 7, 72]\n",
      "Второй список: [86, 13, 21, 83, 47, 28, 27, 24, 89, 9]\n",
      "Новый список: [36, 59, 22, 21, 7, 13, 83, 28, 24, 9]\n"
     ]
    }
   ],
   "source": [
    "#2. Сгенерировать, используя модуль псевдослучайных чисел random , или ввести с клавиатуры два списка целых чисел. \n",
    "# Вывести их в консоль. \n",
    "# Создать новый пустой список. \n",
    "# Добавить в него все четные (по индексу) элементы первого списка и все нечетные (по индексу) элементы второго списка. \n",
    "# Вывести третий список в консоль.\n",
    "\n",
    "n1 = int(input(\"Введите количество элементов в первом списке: \"))\n",
    "n2 = int(input(\"Введите количество элементов во втором списке: \"))\n",
    "list1 = list(random.randint(1, 100) for _ in range(n1))\n",
    "list2 = list(random.randint(1, 100) for _ in range(n2))\n",
    "print(\"Первый список:\", list1)\n",
    "print(\"Второй список:\", list2)\n",
    "new_list = list()\n",
    "new_list = [list1[i] for i in range(len(list1)) if i % 2 == 0] + [list2[i] for i in range(len(list2)) if i % 2 != 0]\n",
    "print(\"Новый список:\", new_list)"
   ]
  },
  {
   "cell_type": "code",
   "execution_count": 5,
   "metadata": {},
   "outputs": [
    {
     "name": "stdout",
     "output_type": "stream",
     "text": [
      "Исходный список: [1, 4, 5, 8, 10, 2, 1, 2, 10, 9]\n",
      "Список без дубликатов: [1, 2, 4, 5, 8, 9, 10]\n"
     ]
    }
   ],
   "source": [
    "#3. Сгенерировать, используя модуль псевдослучайных чисел random , или ввести с клавиатуры список произвольных элементов. \n",
    "# Вывести в консоль. Убрать из него все дубликаты через приведение типов. Вывести в консоль.\n",
    "\n",
    "n = int(input(\"Введите количество элементов в первом списке: \"))\n",
    "list1 = list(random.randint(1, 10) for _ in range(n))\n",
    "print(\"Исходный список:\", list1)\n",
    "new_list = list(set(list1))\n",
    "print(\"Список без дубликатов:\", new_list)"
   ]
  },
  {
   "cell_type": "code",
   "execution_count": 21,
   "metadata": {},
   "outputs": [
    {
     "name": "stdout",
     "output_type": "stream",
     "text": [
      "Сгенерированный словарь:\n",
      "{'0': 1, '1': 9, '2': 4, '3': 2, '4': 5, '5': 7, '6': 10, '7': 4, '8': 7, '9': 2}\n",
      "Список кортежей с уникальными значениями и соответствующими ключами:\n",
      "[(1, ['0']), (2, ['3', '9']), (4, ['2', '7']), (5, ['4']), (7, ['5', '8']), (9, ['1']), (10, ['6'])]\n"
     ]
    }
   ],
   "source": [
    "#4. Сгенерировать, используя модуль псевдослучайных чисел random , или ввести с клавиатуры словарь, где ключом является строка, \n",
    "# значением — целое число или число с плавающей точкой. Вывести в консоль. \n",
    "# Для всех уникальных значений создать кортеж, где первым элементом будет значение, вторым — список связанных с ним ключей. \n",
    "# Собрать эти кортежи в список, вывести его в консоль.\n",
    "\n",
    "def random_dict() -> dict:\n",
    "    d = {}\n",
    "    count = 10\n",
    "\n",
    "    for i in range(count):\n",
    "        d = {**d, str(i): random.randint(1, 10)}\n",
    "\n",
    "    return d\n",
    "\n",
    "def keys_for_value(value, d: dict) -> list:\n",
    "    keys = []\n",
    "    for key, curr_value in d.items():\n",
    "        if curr_value != value:\n",
    "            continue\n",
    "        keys.append(key)\n",
    "\n",
    "    return keys\n",
    "\n",
    "d = random_dict()\n",
    "unique_values = set(d.values())\n",
    "lst = []\n",
    "for value in unique_values:\n",
    "    this_tuple = (value, keys_for_value(value, d))\n",
    "    lst.append(this_tuple)\n",
    "\n",
    "print(\"Сгенерированный словарь:\")\n",
    "print(d)\n",
    "print(\"Список кортежей с уникальными значениями и соответствующими ключами:\")\n",
    "print(lst)\n"
   ]
  },
  {
   "cell_type": "code",
   "execution_count": 27,
   "metadata": {},
   "outputs": [
    {
     "name": "stdout",
     "output_type": "stream",
     "text": [
      "Словарь 1:\n",
      "{'0': 7, '1': 2, '2': 7, '3': 3, '4': 9, '5': 15, '6': 8, '7': 2, '8': 18, '9': 11}\n",
      "Словарь 2:\n",
      "{'0': 17, '1': 17, '2': 18, '3': 1, '4': 17, '5': 16, '6': 12, '7': 6, '8': 14, '9': 18}\n",
      "Пересечённые значения:\n",
      "{18}\n",
      "Новый словарь с пересечениями значений:\n",
      "{'8': 18, '2': 18, '9': 18}\n"
     ]
    }
   ],
   "source": [
    "#5. Сгенерировать, используя модуль псевдослучайных чисел random , или ввести с клавиатуры два словаря, где ключом\n",
    "#является строка, значением — целое число или число с плавающей точкой. Вывести в консоль. Найти пересечения\n",
    "#множеств значений словарей. Создать новый словарь, содержащий только те пары ключ-значение, значения из\n",
    "#которых входит в пересечение. Вывести в консоль.\n",
    "\n",
    "def random_dict() -> dict:\n",
    "    d = {}\n",
    "    count = 10\n",
    "\n",
    "    for i in range(count):\n",
    "        d = {**d, str(i): random.randint(1, 20)}\n",
    "\n",
    "    return d\n",
    "    \n",
    "dict1 = random_dict()\n",
    "dict2 = random_dict()\n",
    "print(\"Словарь 1:\")\n",
    "print(dict1)\n",
    "print(\"Словарь 2:\")\n",
    "print(dict2)\n",
    "\n",
    "values1 = set(dict1.values())\n",
    "values2 = set(dict2.values())\n",
    "intersection = values1.intersection(values2)\n",
    "print(\"Пересечённые значения:\")\n",
    "print(intersection)\n",
    "\n",
    "result_dict = {k: v for k, v in dict1.items() if v in intersection}\n",
    "result_dict.update({k: v for k, v in dict2.items() if v in intersection})\n",
    "\n",
    "print(\"Новый словарь с пересечениями значений:\")\n",
    "print(result_dict)\n"
   ]
  }
 ],
 "metadata": {
  "kernelspec": {
   "display_name": "Python 3",
   "language": "python",
   "name": "python3"
  },
  "language_info": {
   "codemirror_mode": {
    "name": "ipython",
    "version": 3
   },
   "file_extension": ".py",
   "mimetype": "text/x-python",
   "name": "python",
   "nbconvert_exporter": "python",
   "pygments_lexer": "ipython3",
   "version": "3.12.5"
  }
 },
 "nbformat": 4,
 "nbformat_minor": 2
}
