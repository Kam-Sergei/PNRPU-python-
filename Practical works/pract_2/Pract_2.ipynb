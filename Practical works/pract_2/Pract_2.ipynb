{
 "cells": [
  {
   "cell_type": "code",
   "execution_count": 2,
   "metadata": {},
   "outputs": [],
   "source": [
    "import random"
   ]
  },
  {
   "cell_type": "code",
   "execution_count": null,
   "metadata": {},
   "outputs": [
    {
     "name": "stdout",
     "output_type": "stream",
     "text": [
      "Загадано: 0536\n",
      "Число: 1245, Быки: 1, Коровы: 0\n",
      "Число: 0573, Быки: 1, Коровы: 2\n",
      "Число: 0563, Быки: 2, Коровы: 2\n",
      "Число: 0536, Быки: 0, Коровы: 4\n",
      "Число  0536 угадано за 4 попыток.\n"
     ]
    }
   ],
   "source": [
    "#1) Написать консольную игру «Быки и коровы»\n",
    "def game1(n: int) -> None:\n",
    "    digits = list(range(10))\n",
    "    random.shuffle(digits)\n",
    "    secret_number = ''.join(str(digit) for digit in digits[:n])\n",
    "    attempts = 0\n",
    "    print(f'Загадано: {secret_number}')\n",
    "    while True:\n",
    "        guess = input(\"Введите четырехзначное число: \")\n",
    "        \n",
    "        if len(guess) != 4 or not guess.isdigit():\n",
    "            print(\"Пожалуйста, введите корректное четырехзначное число.\")\n",
    "            continue\n",
    "\n",
    "        attempts += 1\n",
    "        cows = 0 \n",
    "        bulls = 0  \n",
    "        for i in range(4):\n",
    "            if guess[i] == secret_number[i]:\n",
    "                cows += 1\n",
    "            elif guess[i] in secret_number:\n",
    "                bulls += 1\n",
    "        print(f\"Число: {guess}, Быки: {bulls}, Коровы: {cows}\")\n",
    "\n",
    "        if cows == 4:\n",
    "            print(f\"Число  {secret_number} угадано за {attempts} попыток.\")\n",
    "            break\n",
    "\n",
    "if __name__ == '__main__':\n",
    "    n: int = 4\n",
    "    game1(n)"
   ]
  },
  {
   "cell_type": "code",
   "execution_count": null,
   "metadata": {},
   "outputs": [
    {
     "name": "stdout",
     "output_type": "stream",
     "text": [
      "Правильная буква и позиция отмечены: []\n",
      "Правильная буква, но неправильная позиция отмечена: ()\n",
      "\n",
      "Результат: (а)кул(а)\n",
      "Результат: м[а]сл(о)\n",
      "Результат: [з][а][б][о][р]\n",
      "Поздравляю! Вы угадали слово!\n"
     ]
    }
   ],
   "source": [
    "#2)  Написать консольную игру «Wordle»/«5 букв» (выделяем правильные буквы[] , а буквы на неправильной позиции () )\n",
    "# список слов\n",
    "slova = ['город', 'забор', 'масло', 'носок', 'акула']\n",
    "def check_guess(secret_slovo, guess):\n",
    "    result = []\n",
    "    for i, char in enumerate(guess):\n",
    "        if char == secret_slovo[i]:\n",
    "            result.append(f\"[{char}]\")  \n",
    "        elif char in secret_slovo:\n",
    "            result.append(f\"({char})\")  \n",
    "        else:\n",
    "            result.append(char) \n",
    "    return ''.join(result)\n",
    "\n",
    "def game2() -> None:\n",
    "    secret_slovo = random.choice(slova)\n",
    "    popytka = 3  \n",
    "\n",
    "    print(\"Правильная буква и позиция отмечены: []\")\n",
    "    print(\"Правильная буква, но неправильная позиция отмечена: ()\\n\")\n",
    "\n",
    "    for attempt in range(1, popytka + 1):\n",
    "        guess = input(f\"Попытка {attempt}/{popytka}. Введите слово: \").lower()\n",
    "\n",
    "        if len(guess) != 5:\n",
    "            print(\"Слово должно быть длиной 5 букв.\")\n",
    "            continue\n",
    "\n",
    "        result = check_guess(secret_slovo, guess)\n",
    "        print(f\"Результат: {result}\")\n",
    "\n",
    "        if guess == secret_slovo:\n",
    "            print(\"Поздравляю! Вы угадали слово!\")\n",
    "            break\n",
    "    else:\n",
    "        print(f\"Вы не угадали. Загаданное слово было: {secret_slovo}\")\n",
    "\n",
    "if __name__ == \"__main__\":\n",
    "    game2()"
   ]
  },
  {
   "cell_type": "code",
   "execution_count": 7,
   "metadata": {},
   "outputs": [
    {
     "name": "stdout",
     "output_type": "stream",
     "text": [
      "\n",
      "Выбирите:\n",
      "1 - Камень\n",
      "2 - Ножницы\n",
      "3 - Бумага\n",
      "\n",
      "Вы выбрали: Ножницы\n",
      "Компьютер выбрал: Ножницы\n",
      "Ничья!\n",
      "\n",
      "Вы выбрали: Камень\n",
      "Компьютер выбрал: Камень\n",
      "Ничья!\n",
      "\n",
      "Вы выбрали: Камень\n",
      "Компьютер выбрал: Бумага\n",
      "Компьютер выиграл!\n",
      "\n",
      "Вы выбрали: Камень\n",
      "Компьютер выбрал: Камень\n",
      "Ничья!\n",
      "\n",
      "Вы выбрали: Камень\n",
      "Компьютер выбрал: Камень\n",
      "Ничья!\n",
      "\n",
      "Вы выбрали: Камень\n",
      "Компьютер выбрал: Ножницы\n",
      "Вы выиграли!\n"
     ]
    }
   ],
   "source": [
    "#3) Написать игру Камень-ножницы-бумага и/или Камень-ножницы-бумагаящерица-Спок\n",
    "\n",
    "def winner(user_vybor, computer_vybor):\n",
    "    if user_vybor == computer_vybor:\n",
    "        return \"Ничья!\"\n",
    "    elif (user_vybor == 'Камень' and computer_vybor == 'Ножницы') or \\\n",
    "         (user_vybor == 'Ножницы' and computer_vybor == 'Бумага') or \\\n",
    "         (user_vybor == 'Бумага' and computer_vybor == 'Камень'):\n",
    "        return \"Вы выиграли!\"\n",
    "    else:\n",
    "        return \"Компьютер выиграл!\"\n",
    "\n",
    "def game3() -> None:\n",
    "    vybor = {'1': 'Камень', '2': 'Ножницы', '3': 'Бумага'}\n",
    "    vybor2 = ['Камень', 'Ножницы', 'Бумага']\n",
    "    print(\"\\nВыбирите:\")\n",
    "    print(\"1 - Камень\")\n",
    "    print(\"2 - Ножницы\")\n",
    "    print(\"3 - Бумага\")\n",
    "    while True:\n",
    "        user_input = input(\"Введите ваш выбор (1-камень/2-ножницы/3-бумага): \")\n",
    "        user_vybor = vybor.get(user_input)\n",
    "        if not user_vybor:\n",
    "            print(\"Неправильный ввод. Попробуйте снова.\")\n",
    "            continue\n",
    "\n",
    "        computer_vybor = random.choice(vybor2)\n",
    "        print(f\"\\nВы выбрали: {user_vybor}\")\n",
    "        print(f\"Компьютер выбрал: {computer_vybor}\")\n",
    "\n",
    "        result = winner(user_vybor, computer_vybor)\n",
    "        print(result)\n",
    "\n",
    "        play_again = input(\"\\nХотите сыграть еще раз? (1-Да/2-Нет): \")\n",
    "        if play_again != '1': break\n",
    "\n",
    "if __name__ == \"__main__\":\n",
    "    game3()"
   ]
  },
  {
   "cell_type": "code",
   "execution_count": 16,
   "metadata": {},
   "outputs": [
    {
     "name": "stdout",
     "output_type": "stream",
     "text": [
      "Делители числа 127 => [1, 127]\n",
      "Число 127 является простым\n"
     ]
    }
   ],
   "source": [
    "#4) Написать функцию поиска всех делителей целого числа больше 0 и проверки\n",
    "#этого числа на то, является ли оно простым (ограничим до 100 тыс.)\n",
    "\n",
    "def divisors(n: int) -> list:\n",
    "    if n <= 0:\n",
    "        return []\n",
    "\n",
    "    divisors: list = []\n",
    "    for i in range(1, n + 1):\n",
    "        if n % i == 0:\n",
    "            divisors.append(i)\n",
    "\n",
    "    return divisors\n",
    "\n",
    "def simple(n: int) -> bool:\n",
    "    if n <= 1:\n",
    "        return False\n",
    "    if n == 2:\n",
    "        return True\n",
    "    if n % 2 == 0:\n",
    "        return False\n",
    "\n",
    "    for i in range(3, int(n ** 0.5) + 1, 2):\n",
    "        if n % i == 0:\n",
    "            return False\n",
    "\n",
    "    return True\n",
    "\n",
    "\n",
    "if __name__ == '__main__':\n",
    "    n = 127\n",
    "    print(f'Делители числа {n} => {divisors(n)}')\n",
    "    n <= 100_000 and print(f'Число {n} {'не ' if not simple(n) else ''}является простым')"
   ]
  }
 ],
 "metadata": {
  "kernelspec": {
   "display_name": "Python 3",
   "language": "python",
   "name": "python3"
  },
  "language_info": {
   "codemirror_mode": {
    "name": "ipython",
    "version": 3
   },
   "file_extension": ".py",
   "mimetype": "text/x-python",
   "name": "python",
   "nbconvert_exporter": "python",
   "pygments_lexer": "ipython3",
   "version": "3.12.5"
  }
 },
 "nbformat": 4,
 "nbformat_minor": 2
}
