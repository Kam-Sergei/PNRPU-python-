{
 "cells": [
  {
   "cell_type": "code",
   "execution_count": null,
   "id": "720f9d88",
   "metadata": {},
   "outputs": [],
   "source": [
    "'''\n",
    "Задача 2. Напишите функцию разбора выражения.\n",
    "На вход поступает строка, в которой могут быть:\n",
    "- целые числа\n",
    "- знаки арифметических операций (+, -, *, /)\n",
    "- круглые скобки.\n",
    "Можно считать, что выражение в строке – корректное.\n",
    "Программа должна выводить значение выражения.\n",
    "Операцию деления (/) выполнять как целочисленное деление.\n",
    "'''"
   ]
  },
  {
   "cell_type": "code",
   "execution_count": 4,
   "id": "ee9b0448",
   "metadata": {},
   "outputs": [
    {
     "name": "stdout",
     "output_type": "stream",
     "text": [
      "Дерево разбора:\n",
      "        -> 2\n",
      "    -> /\n",
      "        -> 17\n",
      "-> -\n",
      "        -> 8\n",
      "    -> *\n",
      "            -> 4\n",
      "        -> +\n",
      "            -> 6\n",
      "Результат выражения '(6 + 4) * 8 - 17 / 2' = 72\n"
     ]
    }
   ],
   "source": [
    "## Дерева разбора\n",
    "class Tree_root:\n",
    "    def __init__(self, value):\n",
    "        self.value = value # Инициализация узла с заданным значением\n",
    "        self.left = None\n",
    "        self.right = None\n",
    "\n",
    "    def print_tree(self, level=0):  # Метод для вывода дерева\n",
    "        if self.right:  # Вывод правого поддерева\n",
    "            self.right.print_tree(level + 1)\n",
    "        print(' ' * 4 * level + '->', self.value)  # Выводим текущий узел\n",
    "        if self.left:  # Вывод левого поддерева\n",
    "            self.left.print_tree(level + 1)\n",
    "\n",
    "# Разбор арифметического выражения\n",
    "class Parser:\n",
    "    def __init__(self, text):\n",
    "        # Разделяем входной текст на токены (числа и операторы)\n",
    "        self.tokens = text.replace('(', ' ( ').replace(')', ' ) ').split()\n",
    "        self.current_token_index = 0\n",
    "    \n",
    "    def current_token(self):\n",
    "        if self.current_token_index < len(self.tokens):\n",
    "            return self.tokens[self.current_token_index]\n",
    "        return None\n",
    "    \n",
    "    def factor(self):\n",
    "        token = self.current_token()\n",
    "        if token.isdigit():  # Если токен - число\n",
    "            self.advance()\n",
    "            return Tree_root(int(token))\n",
    "        if token == '(':\n",
    "            self.advance()\n",
    "            node = self.expr()\n",
    "            self.advance()\n",
    "            return node\n",
    "    \n",
    "    def term(self):\n",
    "        node = self.factor()\n",
    "        while self.current_token() in ('*', '/'):\n",
    "            token = self.current_token()\n",
    "            self.advance()\n",
    "            new_node = Tree_root(token)\n",
    "            new_node.left = node\n",
    "            new_node.right = self.factor()\n",
    "            node = new_node\n",
    "\n",
    "        return node\n",
    "\n",
    "    def advance(self):\n",
    "        self.current_token_index += 1\n",
    "\n",
    "    # Разбор выражений\n",
    "    def expr(self):\n",
    "        node = self.term()\n",
    "        # Обработка сложение и вычитание\n",
    "        while self.current_token() in ('+', '-'):\n",
    "            token = self.current_token()\n",
    "            self.advance()\n",
    "            new_node = Tree_root(token)\n",
    "            new_node.left = node\n",
    "            new_node.right = self.term()\n",
    "            node = new_node\n",
    "        return node\n",
    "\n",
    "# Функция для вычисления значения выражения на основе дерева разбора\n",
    "def evaluate(node):\n",
    "    if isinstance(node.value, int):  # Если узел - число, возвращант значение числа\n",
    "        return node.value\n",
    "    # Рекурсивно вычисляем значения левого и правого поддеревьев\n",
    "    left_value = evaluate(node.left)\n",
    "    right_value = evaluate(node.right)\n",
    "    # Выполняем операцию в зависимости от значения узла (оператора)\n",
    "    if node.value == '+':\n",
    "        return left_value + right_value\n",
    "    elif node.value == '-':\n",
    "        return left_value - right_value\n",
    "    elif node.value == '*':\n",
    "        return left_value * right_value\n",
    "    elif node.value == '/':\n",
    "        return left_value // right_value  # Целочисленное деление\n",
    "\n",
    "def main():\n",
    "    expression = \"(6 + 4) * 8 - 17 / 2\" # Арифметическое выражение для вычисления\n",
    "    parser = Parser(expression) # Создаем экземпляр парсера с выражением\n",
    "    parse_tree = parser.expr() # Разбираем выражение и получаем дерево разбора\n",
    "    result = evaluate(parse_tree) # Вычисляем значение дерева разбора\n",
    "    print(\"Дерево разбора:\")\n",
    "    parse_tree.print_tree()  # Выводим дерево разбора\n",
    "    print(f\"Результат выражения '{expression}' = {result}\")\n",
    "\n",
    "if __name__ == \"__main__\":\n",
    "    main()"
   ]
  },
  {
   "cell_type": "code",
   "execution_count": 5,
   "id": "7b9dfb9e",
   "metadata": {},
   "outputs": [
    {
     "name": "stdout",
     "output_type": "stream",
     "text": [
      "Дерево разбора:\n",
      "        -> 17\n",
      "    -> +\n",
      "        -> 8\n",
      "-> *\n",
      "        -> 4\n",
      "    -> -\n",
      "        -> 6\n",
      "Результат выражения '(6 - 4) * (8 + 17)' = 50\n"
     ]
    }
   ],
   "source": [
    "# 2 тест\n",
    "expression = \"(6 - 4) * (8 + 17)\"\n",
    "parser = Parser(expression) \n",
    "parse_tree = parser.expr() \n",
    "result = evaluate(parse_tree) \n",
    "print(\"Дерево разбора:\")\n",
    "parse_tree.print_tree() \n",
    "print(f\"Результат выражения '{expression}' = {result}\")"
   ]
  },
  {
   "cell_type": "code",
   "execution_count": 6,
   "id": "2decb1bb",
   "metadata": {},
   "outputs": [
    {
     "name": "stdout",
     "output_type": "stream",
     "text": [
      "Дерево разбора:\n",
      "        -> 2\n",
      "    -> +\n",
      "        -> 3\n",
      "-> *\n",
      "            -> 3\n",
      "        -> -\n",
      "            -> 8\n",
      "    -> /\n",
      "            -> 4\n",
      "        -> +\n",
      "            -> 6\n",
      "Результат выражения '((6 + 4) / (8 - 3) ) * (3 + 2)' = 10\n"
     ]
    }
   ],
   "source": [
    "# 3 тест\n",
    "expression = \"((6 + 4) / (8 - 3) ) * (3 + 2)\"\n",
    "parser = Parser(expression) \n",
    "parse_tree = parser.expr() \n",
    "result = evaluate(parse_tree) \n",
    "print(\"Дерево разбора:\")\n",
    "parse_tree.print_tree() \n",
    "print(f\"Результат выражения '{expression}' = {result}\")"
   ]
  }
 ],
 "metadata": {
  "kernelspec": {
   "display_name": "Python 3",
   "language": "python",
   "name": "python3"
  },
  "language_info": {
   "codemirror_mode": {
    "name": "ipython",
    "version": 3
   },
   "file_extension": ".py",
   "mimetype": "text/x-python",
   "name": "python",
   "nbconvert_exporter": "python",
   "pygments_lexer": "ipython3",
   "version": "3.11.9"
  }
 },
 "nbformat": 4,
 "nbformat_minor": 5
}
