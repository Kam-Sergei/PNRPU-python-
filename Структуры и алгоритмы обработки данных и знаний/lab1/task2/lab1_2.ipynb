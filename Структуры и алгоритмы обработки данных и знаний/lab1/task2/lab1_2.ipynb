{
 "cells": [
  {
   "cell_type": "code",
   "execution_count": null,
   "id": "720f9d88",
   "metadata": {},
   "outputs": [],
   "source": [
    "'''\n",
    "Задача 2. Предложите свою хеш-функцию для слов на естественном языке и реализуйте словарь с использованием этой функции. На входе – последовательность команд двух видов:\n",
    "- add <слово> - добавить <слово> в словарь;\n",
    "- check <слово> - проверить, что <слово> есть в словаре.\n",
    "Для каждой команды вида check нужно выдать ответ: yes или no.\n",
    "'''\n"
   ]
  },
  {
   "cell_type": "code",
   "execution_count": null,
   "id": "ee9b0448",
   "metadata": {},
   "outputs": [
    {
     "name": "stdout",
     "output_type": "stream",
     "text": [
      "Слово 'арбуз' добавлено.\n",
      "Слово 'банан' добавлено.\n",
      "Проверка слова ' арбуз ': yes\n",
      "Проверка слова ' дыня ': no\n",
      "Слово 'дыня' добавлено.\n",
      "Проверка слова ' дыня ': yes\n"
     ]
    }
   ],
   "source": [
    "class SimpleHashTable:\n",
    "    def __init__(self):\n",
    "        self.size = 1000  # Размер хеш-таблицы\n",
    "        self.table = [[] for _ in range(self.size)]  # Инициализируем таблицу списками\n",
    "\n",
    "    def hash_function(self, word):\n",
    "        return sum(ord(char) for char in word) % self.size  # Простой хеш по ASCII-кодам\n",
    "    \n",
    "    # Добавение слово\n",
    "    def add(self, word):\n",
    "        index = self.hash_function(word)\n",
    "        if word not in self.table[index]:  # Проверяем, что слово еще не добавлено\n",
    "            self.table[index].append(word)\n",
    "    \n",
    "    # Проверка наличия слова\n",
    "    def check(self, word):\n",
    "        index = self.hash_function(word)\n",
    "        return word in self.table[index]\n",
    "\n",
    "def main():\n",
    "    hash_table = SimpleHashTable()\n",
    "    \n",
    "    # Ввод осуществляется последовательно по 1 команде\n",
    "    while True:\n",
    "        command = input(\"Введите команду ('add слово' или 'check слово') (для выхода ввидите 'exit'): \")\n",
    "        if command.lower() == \"exit\":\n",
    "            break\n",
    "        \n",
    "        parts = command.split()\n",
    "        if len(parts) != 2: # команды вводятся поочередно\n",
    "            print(\"Неверная команда. Используйте 'add слово' или 'check слово' или 'exit'.\")\n",
    "            continue\n",
    "\n",
    "        action, word = parts\n",
    "        if action == \"add\":\n",
    "            hash_table.add(word)\n",
    "            print(f\"Слово '{word}' добавлено.\")\n",
    "        elif action == \"check\":\n",
    "\n",
    "            if hash_table.check(word):\n",
    "                print(f\"Проверка слова '\", word, \"': yes\")\n",
    "            else:\n",
    "                print(f\"Проверка слова '\", word, \"': no\")\n",
    "        else:\n",
    "            print(\"Неверная команда. Используйте 'add слово' или 'check слово' или 'exit'.\")\n",
    "\n",
    "if __name__ == \"__main__\":\n",
    "    main()"
   ]
  }
 ],
 "metadata": {
  "kernelspec": {
   "display_name": "Python 3",
   "language": "python",
   "name": "python3"
  },
  "language_info": {
   "codemirror_mode": {
    "name": "ipython",
    "version": 3
   },
   "file_extension": ".py",
   "mimetype": "text/x-python",
   "name": "python",
   "nbconvert_exporter": "python",
   "pygments_lexer": "ipython3",
   "version": "3.11.9"
  }
 },
 "nbformat": 4,
 "nbformat_minor": 5
}
