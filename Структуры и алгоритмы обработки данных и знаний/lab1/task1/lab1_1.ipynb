{
 "cells": [
  {
   "cell_type": "code",
   "execution_count": null,
   "id": "720f9d88",
   "metadata": {},
   "outputs": [],
   "source": [
    "'''\n",
    "Задача 1. Файл mbox.txt содержит метаданные почтового сервера. Мы знаем, что строка с адресом автора письма начинается с \"From \". \n",
    "Найти адреса всех авторов сообщений и найти того из них, кто пишет больше всех писем. \n",
    "Исходный файл можно взять по ссылке: http://www.py4inf.com/code/mbox.txt\n",
    "'''"
   ]
  },
  {
   "cell_type": "code",
   "execution_count": 15,
   "id": "ee9b0448",
   "metadata": {},
   "outputs": [
    {
     "name": "stdout",
     "output_type": "stream",
     "text": [
      "Автор с наибольшим количеством писем: zqian@umich.edu (195 писем)\n",
      "Словарь: defaultdict(<class 'int'>, {'stephen.marquard@uct.ac.za': 29, 'louis@media.berkeley.edu': 24, 'zqian@umich.edu': 195, 'rjlowe@iupui.edu': 90, 'cwen@iupui.edu': 158, 'gsilver@umich.edu': 28, 'wagnermr@iupui.edu': 44, 'antranig@caret.cam.ac.uk': 18, 'gopal.ramasammycook@gmail.com': 25, 'david.horwitz@uct.ac.za': 67, 'ray@media.berkeley.edu': 32, 'mmmay@indiana.edu': 161, 'stuart.freeman@et.gatech.edu': 17, 'tnguyen@iupui.edu': 6, 'chmaurer@iupui.edu': 111, 'aaronz@vt.edu': 110, 'ian@caret.cam.ac.uk': 96, 'csev@umich.edu': 19, 'jimeng@umich.edu': 93, 'josrodri@iupui.edu': 28, 'knoop@umich.edu': 5, 'bkirschn@umich.edu': 27, 'dlhaines@umich.edu': 84, 'hu2@iupui.edu': 7, 'sgithens@caret.cam.ac.uk': 43, 'arwhyte@umich.edu': 27, 'gbhatnag@umich.edu': 3, 'gjthomas@iupui.edu': 44, 'a.fish@lancaster.ac.uk': 14, 'ajpoland@iupui.edu': 48, 'lance@indiana.edu': 8, 'ssmail@indiana.edu': 5, 'jlrenfro@ucdavis.edu': 1, 'nuno@ufp.pt': 28, 'zach.thomas@txstate.edu': 17, 'ktsao@stanford.edu': 12, 'ostermmg@whitman.edu': 17, 'john.ellis@rsmart.com': 8, 'jleasia@umich.edu': 2, 'ggolden@umich.edu': 8, 'thoppaymallika@fhda.edu': 1, 'kimsooil@bu.edu': 14, 'bahollad@indiana.edu': 4, 'jzaremba@unicon.net': 9, 'mbreuker@loi.nl': 9, 'colin.clark@utoronto.ca': 1})\n"
     ]
    }
   ],
   "source": [
    "import urllib.request\n",
    "from collections import defaultdict\n",
    "\n",
    "def main():\n",
    "    # Загружаем файл\n",
    "    url = 'http://www.py4inf.com/code/mbox.txt'\n",
    "    response = urllib.request.urlopen(url)\n",
    "    lines = response.readlines()\n",
    "\n",
    "    # Словарь для подсчета писем\n",
    "    email_count = defaultdict(int)\n",
    "\n",
    "    # Заполняем словарь \n",
    "    for line in lines:\n",
    "        line = line.decode().strip()\n",
    "        if line.startswith(\"From \"):\n",
    "            email = line.split()[1]\n",
    "            email_count[email] += 1\n",
    "\n",
    "    # Находим автора с максимальным количеством писем\n",
    "    max_email = max(email_count.items(), key=lambda x: x[1])\n",
    "    \n",
    "    #Выводим результат\n",
    "    print(f\"Автор с наибольшим количеством писем: {max_email[0]} ({max_email[1]} писем)\")\n",
    "    print(\"Словарь:\", email_count)\n",
    "\n",
    "if __name__ == \"__main__\":\n",
    "    main()"
   ]
  }
 ],
 "metadata": {
  "kernelspec": {
   "display_name": "Python 3",
   "language": "python",
   "name": "python3"
  },
  "language_info": {
   "codemirror_mode": {
    "name": "ipython",
    "version": 3
   },
   "file_extension": ".py",
   "mimetype": "text/x-python",
   "name": "python",
   "nbconvert_exporter": "python",
   "pygments_lexer": "ipython3",
   "version": "3.11.9"
  }
 },
 "nbformat": 4,
 "nbformat_minor": 5
}
