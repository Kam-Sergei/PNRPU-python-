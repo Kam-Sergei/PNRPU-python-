{
 "cells": [
  {
   "cell_type": "code",
   "execution_count": null,
   "id": "668ddf10",
   "metadata": {},
   "outputs": [],
   "source": [
    "'''\n",
    "Задача 1 (2 балла). Дистанционный датчик посылает сообщения, состоящие из \n",
    "заглавных латинских букв (от A до Z). Например, сообщение может выглядеть так: \n",
    "‘AAACBBBBBDDADDD’. Такое сообщение легко сжать, если заменить группу одинаковых \n",
    "символов на число, равное количеству повторов символа, и сам этот символ. То есть, \n",
    "например, группа ‘AAA’ заменится на ‘3A’. При этом одиночные буквы заменять не нужно, \n",
    "чтобы не произошло увеличения длины. В результате такого преобразования строка, \n",
    "приведенная в примере, преобразуется в ‘3AC5B2DA3D’. Напишите программу, \n",
    "выполняющую указанное преобразование. \n",
    "Входные данные \n",
    "В единственной строке записано исходное сообщение. Сообщение содержит только \n",
    "большие латинские символы. Длина сообщения – не менее 1 и не более 200 символов. \n",
    "Выходные данные \n",
    "В единственной строке выведите сжатое сообщение. \n",
    "\n",
    "Пример \n",
    "Входные данные AAACBBBBBDDADDD \n",
    "Выходные данные 3AC5B2DA3D \n",
    "'''"
   ]
  },
  {
   "cell_type": "code",
   "execution_count": 1,
   "id": "79578eed",
   "metadata": {},
   "outputs": [
    {
     "name": "stdout",
     "output_type": "stream",
     "text": [
      "3AC5B2DA3D\n"
     ]
    }
   ],
   "source": [
    "def main(inp_data):\n",
    "    out_data = []\n",
    "    count = 1\n",
    "    for i in range(1, len(inp_data)):\n",
    "        if inp_data[i] == inp_data[i - 1]:\n",
    "            count += 1\n",
    "        else:\n",
    "            if count > 1:\n",
    "                out_data.append(str(count))\n",
    "                out_data.append(inp_data[i - 1])\n",
    "            else:\n",
    "                out_data.append(inp_data[i - 1])\n",
    "            count = 1\n",
    "    if count > 1:\n",
    "        out_data.append(str(count))\n",
    "        out_data.append(inp_data[-1])\n",
    "    else:\n",
    "        out_data.append(inp_data[-1])\n",
    "    return ''.join(out_data)\n",
    "\n",
    "if __name__ == \"__main__\":\n",
    "    input_data = input()\n",
    "    output_data = main(input_data)\n",
    "    print(output_data)"
   ]
  }
 ],
 "metadata": {
  "kernelspec": {
   "display_name": "Python 3",
   "language": "python",
   "name": "python3"
  },
  "language_info": {
   "codemirror_mode": {
    "name": "ipython",
    "version": 3
   },
   "file_extension": ".py",
   "mimetype": "text/x-python",
   "name": "python",
   "nbconvert_exporter": "python",
   "pygments_lexer": "ipython3",
   "version": "3.11.9"
  }
 },
 "nbformat": 4,
 "nbformat_minor": 5
}
