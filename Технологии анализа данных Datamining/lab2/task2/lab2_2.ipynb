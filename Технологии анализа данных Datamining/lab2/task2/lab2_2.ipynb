{
 "cells": [
  {
   "cell_type": "code",
   "execution_count": null,
   "id": "668ddf10",
   "metadata": {},
   "outputs": [],
   "source": [
    "'''\n",
    "Задача 2 (2 балла). Пароль считается надежным, если его длина составляет не менее 12 \n",
    "символов, при этом он должен содержать хотя бы одну заглавную букву, хотя бы одну \n",
    "строчную букву, хотя бы одну цифру и хотя бы один спецсимвол. Любые другие символы в \n",
    "пароле запрещены. Напишите программу, которая по указанному списку паролей \n",
    "определяет, какие из них являются надежными, а какие – нет. \n",
    "Допустимые заглавные буквы: ‘A’, ‘B’, …, ‘Z’ (все символы латинского алфавита). \n",
    "Допустимые строчные буквы: ‘a’, ‘b’, …, ‘z’ (все символы латинского алфавита). \n",
    "Допустимые спецсимволы: ‘!’, ‘@’, ‘#’, ‘$’, ‘%’, ‘&’, ‘*’, ‘+’. \n",
    "Входные данные \n",
    "В первой строке записано одно целое число N – количество паролей, которые нужно \n",
    "проверить, 1<=N<=100. \n",
    "Далее следует N строк, в каждой из которых записан один пароль. Гарантируется, что \n",
    "в паролях нет недопустимых символов, а длина каждого – не больше 100 символов. \n",
    "Выходные данные \n",
    "Выведите N строк, по одной для каждого пароля из входных данных. В каждой \n",
    "выведите “Valid” (без кавычек), если пароль надежный, и “Invalid” (без кавычек), если \n",
    "ненадежный. \n",
    "\n",
    "Пример \n",
    "Входные данные \n",
    "2 \n",
    "123456789aA! \n",
    "123IsAVeryDifficultPassword \n",
    "Выходные данные \n",
    "Valid \n",
    "Invalid\n",
    "'''"
   ]
  },
  {
   "cell_type": "code",
   "execution_count": 1,
   "id": "79578eed",
   "metadata": {},
   "outputs": [
    {
     "name": "stdout",
     "output_type": "stream",
     "text": [
      "Valid\n",
      "Invalid\n"
     ]
    }
   ],
   "source": [
    "def main(password):\n",
    "        if len(password) < 12:\n",
    "            return False\n",
    "        Capital_letters = False\n",
    "        Lowercase_letters = False\n",
    "        Numbers = False\n",
    "        Special_characters = False\n",
    "        for i in password:\n",
    "            if (Capital_letters and Lowercase_letters and Numbers and Special_characters):\n",
    "                return True\n",
    "            if (Capital_letters == False):\n",
    "                Capital_letters = i.isupper()\n",
    "            if (Lowercase_letters == False):\n",
    "                Lowercase_letters = i.islower()\n",
    "            if (Numbers == False):\n",
    "                Numbers = i.isdigit()\n",
    "            if (Special_characters == False):\n",
    "                Special_characters = i in \"!@#$%&*+\"\n",
    "\n",
    "        return Capital_letters and Lowercase_letters and Numbers and Special_characters\n",
    "\n",
    "if __name__ == \"__main__\":\n",
    "    count = int(input())\n",
    "    passwords = [input() for _ in range(count)]\n",
    "    for password in passwords:\n",
    "        if main(password):\n",
    "            print(\"Valid\")\n",
    "        else:\n",
    "            print(\"Invalid\")"
   ]
  }
 ],
 "metadata": {
  "kernelspec": {
   "display_name": "Python 3",
   "language": "python",
   "name": "python3"
  },
  "language_info": {
   "codemirror_mode": {
    "name": "ipython",
    "version": 3
   },
   "file_extension": ".py",
   "mimetype": "text/x-python",
   "name": "python",
   "nbconvert_exporter": "python",
   "pygments_lexer": "ipython3",
   "version": "3.11.9"
  }
 },
 "nbformat": 4,
 "nbformat_minor": 5
}
