{
 "cells": [
  {
   "cell_type": "code",
   "execution_count": null,
   "id": "fd2f52e5",
   "metadata": {},
   "outputs": [],
   "source": [
    "'''\n",
    "При решении задач данной лабораторной работы необходимо использовать \n",
    "функции библиотеки numpy (обязательно). Также можно (и рекомендуется) \n",
    "использовать библиотеки scipy и matplotlib (либо любую другую для построения \n",
    "графиков). \n",
    "По данной работе необходимо подготовить отчет в формате блокнота Jupyter \n",
    "Notebook (.ipynb) либо в текстовом виде (.pdf).\n",
    "Задача 1 (6 баллов). В файле «global-electricity-generation.csv» представлена \n",
    "информация о производстве электроэнергии странами с 1992 по 2021 год. В файле «global\n",
    "electricity-consumption.csv» – информация о потреблении электроэнергии. Все данные – в \n",
    "млрд. кВт*ч. \n",
    "1. Загрузите информацию из этих файлов. \n",
    "Указание: рекомендуется воспользоваться функцией genfromtxt. Обратите внимание, \n",
    "что данные в файлах разделены запятой, в обоих файлах есть заголовок, который при \n",
    "загрузке нужно пропустить. Для корректной загрузки названий стран необходимо также \n",
    "указать тип данных (по умолчанию загружаемые данные преобразуются в вещественный \n",
    "тип). Вы можете либо собрать все данные в один массив записей, либо работать с тремя \n",
    "разными массивами: массив названий стран (одномерный, строки), массивы производства \n",
    "и потребления энергии (двумерные, вещественные)). \n",
    "Порядок стран в двух исходных файлах одинаковый. \n",
    "2. Постройте одномерные массивы ежегодного производства и потребления \n",
    "электроэнергии в среднем за последние 5 лет (один массив – производство по всем \n",
    "странам, второй – потребление по всем странам). \n",
    "Указание: не забывайте, что в агрегирующих функциях для построчной обработки \n",
    "нужно указывать параметр axis=1. \n",
    "3. Напишите выражения, позволяющие получить ответ на следующие вопросы: \n",
    "3.1. Суммарное (по всем странам) потребление электроэнергии за каждый год. \n",
    "3.2. Максимальное количество электроэнергии, которое произвела одна страна за \n",
    "один год (указание: чтобы не учитывать отсутствующие и некорректные данные \n",
    "(nan) воспользуйтесь NaN-безопасной версией функции max, то есть nanmax). \n",
    "3.3. Список стран, которые производят более 500 млрд. кВт*ч электроэнергии \n",
    "ежегодно в среднем за последние 5 лет (воспользуйтесь массивом, полученным на \n",
    "шаге 2). \n",
    "3.4. 10% стран, которые потребляют больше всего электроэнергии ежегодно в \n",
    "среднем за последние 5 лет (указание: вначале определите соответствующую \n",
    "квантиль в массиве, построенном на шаге 2). \n",
    "3.5. Список стран, которые увеличили производство электроэнергии в 2021 году по \n",
    "сравнению с 1992 годом более, чем в 10 раз. \n",
    "3.6. Список стран, которые в сумме за все годы потратили больше 100 млрд. кВт*ч \n",
    "электроэнергии и при этом произвели меньше, чем потратили. \n",
    "3.7. Какая страна потратила наибольшее количество электроэнергии в 2020 году?\n",
    "'''"
   ]
  },
  {
   "cell_type": "code",
   "execution_count": 1,
   "id": "4a7b8d9a",
   "metadata": {},
   "outputs": [],
   "source": [
    "# Импорт необходимых библиотек\n",
    "import numpy as np\n",
    "import matplotlib.pyplot as plt"
   ]
  },
  {
   "cell_type": "code",
   "execution_count": null,
   "id": "7395c90f",
   "metadata": {},
   "outputs": [],
   "source": [
    "# 1. Загрузка информации из файлов «global-electricity-generation.csv» и «global-electricity-consumption.csv»."
   ]
  },
  {
   "cell_type": "code",
   "execution_count": 2,
   "id": "74b5bc8c",
   "metadata": {},
   "outputs": [],
   "source": [
    "# Функция для проверки массива\n",
    "def check_array_properties(data, name):\n",
    "    print(f\"Свойства массива {name}:\")\n",
    "    print(f\"  Размерность: {data.ndim}\")  # Размерность массива\n",
    "    print(f\"  Форма: {data.shape}\")      # Форма массива\n",
    "    print(f\"  Тип данных: {data.dtype}\")  # Тип данных\n",
    "    print()\n",
    "\n",
    "generation_data = np.genfromtxt('global-electricity-generation.csv', delimiter=',', skip_header=1, dtype=str)\n",
    "consumption_data = np.genfromtxt('global-electricity-consumption.csv', delimiter=',', skip_header=1, dtype=str)\n",
    "# delimiter=',' (указывает, что данные разделены запятыми).\n",
    "# skip_header=1 (пропускает первую строку (заголовки столбцов)).\n",
    "# dtype=None (aвтоматическое определение типов данных).\n",
    "\n",
    "# Отключаем научную нотацию для маленьких чисел\n",
    "np.set_printoptions(suppress=True) # Чтобы не отображалось так: [[1.71990000e+01 1.82670000e+01 ... \n",
    "\n",
    "# Заменяем пропуски значений '--' на nan, что позволит избежать ошибок при преобразовании типов в далнейшем\n",
    "generation_data = np.where(generation_data == '--' , 'nan', generation_data)\n",
    "generation_data = np.where(generation_data == 'ie' , 'nan', generation_data) # ie было принято считать за ошибку/пропуск и заменять  на nan\n",
    "consumption_data = np.where(consumption_data == '--', 'nan', consumption_data)"
   ]
  },
  {
   "cell_type": "code",
   "execution_count": 3,
   "id": "143d3bad",
   "metadata": {},
   "outputs": [
    {
     "name": "stdout",
     "output_type": "stream",
     "text": [
      "Свойства массива generation_data:\n",
      "  Размерность: 2\n",
      "  Форма: (217, 31)\n",
      "  Тип данных: <U25\n",
      "\n",
      "generation_data (первые з): [['Algeria' '17.199' '18.267' '18.703' '18.09' '19.124' '19.739' '21.448'\n",
      "  '23.282' '23.88952' '25.03064' '25.99154' '27.80964' '29.38706'\n",
      "  '31.9074' '33.12352' '34.9758' '37.83582' '36.206' '42.9985' '48.17578'\n",
      "  '53.9845' '56.3134' '60.39972' '64.68244' '66.75504' '71.49546'\n",
      "  '72.10903' '76.685' '72.73591277' '77.53072719']\n",
      " ['Angola' '1.283' '1.332' '1.342' '1.347' '1.377' '1.331' '1.52' '1.3'\n",
      "  '1.40402' '1.59074' '1.71668' '1.93776' '2.18608' '2.72998' '3.24054'\n",
      "  '3.1488' '4.06368' '4.60554' '5.31724' '5.52336' '6.03408' '7.97606'\n",
      "  '9.21666' '9.30914' '10.203511' '10.67604' '12.83194' '15.4' '16.6'\n",
      "  '16.429392']\n",
      " ['Benin' '0.023' '0.024' '0.048' '0.029' '0.0487' '0.0517' '0.0597'\n",
      "  '0.0677' '0.07908' '0.06216' '0.05934' '0.07532' '0.0762' '0.10064'\n",
      "  '0.142' '0.20498' '0.21344' '0.12038' '0.10816' '0.09594' '0.04612'\n",
      "  '0.08848' '0.22666' '0.31056' '0.26004' '0.3115' '0.19028' '0.2017'\n",
      "  '0.22608' '0.24109728']]\n",
      "generation_data (последний): ['Venezuela' '65.744' '67.579' '69.498' '71.598' '73.745' '76.245'\n",
      " '78.947' '78.777' '83.24' '87.733' '86.646' '89.267' '96.216' '101.385'\n",
      " '107.904' '111.84176' '116.48164' '116.703' '110.7799' '115.06854'\n",
      " '118.5113' '120.0401' '100.35006' '119.19668' '104.67136' '101.203265'\n",
      " '97.263875' '83.04078' '94.23124208' '94.74670541']\n"
     ]
    }
   ],
   "source": [
    "# Проверка массива \"generation_data\"\n",
    "check_array_properties(generation_data, \"generation_data\")\n",
    "print(\"generation_data (первые з):\", generation_data[:3])\n",
    "print(\"generation_data (последний):\", generation_data[-1])\n"
   ]
  },
  {
   "cell_type": "code",
   "execution_count": 4,
   "id": "51912f6d",
   "metadata": {},
   "outputs": [
    {
     "name": "stdout",
     "output_type": "stream",
     "text": [
      "Свойства массива consumption_data:\n",
      "  Размерность: 2\n",
      "  Форма: (217, 31)\n",
      "  Тип данных: <U25\n",
      "\n",
      "consumption_data (первые з): [['Algeria' '14.035' '14.039' '14.365' '14.474' '15.172' '15.365'\n",
      "  '16.905' '18.492' '19.71552' '20.64764' '21.62354' '23.61164'\n",
      "  '24.42506' '27.5164' '26.91052' '28.3348' '30.49982' '28.315' '33.8405'\n",
      "  '38.13478' '42.8675' '45.2014' '49.20572' '53.45544' '55.82304'\n",
      "  '60.28346' '62.11403' '66.646' '63.69490277' '68.66337919']\n",
      " ['Angola' '1.013' '1.062' '1.071' '1.074' '1.085' '1.216' '1.328'\n",
      "  '1.106' '1.19302' '1.35274' '1.45868' '1.64976' '1.59608' '2.06798'\n",
      "  '2.85054' '2.7178' '3.64768' '4.13154' '4.69024' '4.88636' '5.33508'\n",
      "  '7.05006' '8.14866' '8.23114' '9.036511' '9.468667' '11.384079'\n",
      "  '13.658591' '14.754764' '14.56049071']\n",
      " ['Benin' '0.229' '0.221' '0.252' '0.242' '0.2787' '0.2797' '0.2707'\n",
      "  '0.3147' '0.39008' '0.39516' '0.39834' '0.48832' '0.5402' '0.58264'\n",
      "  '0.606' '0.65898' '0.73544' '0.77838' '0.90716' '0.90394' '0.93312'\n",
      "  '0.93648' '0.93366' '1.08156' '1.06104' '1.125821' '1.187964' '0.9297'\n",
      "  '0.52408' '0.523382994']]\n",
      "consumption_data (последний): ['Venezuela' '53.23' '54.594' '55.203' '56.17' '57.842' '59.848' '61.171'\n",
      " '59.932' '62.505' '64.958' '64.035' '65.411' '70.369' '72.298' '78.014'\n",
      " '79.89276' '83.55364' '83.766' '87.8999' '91.18454' '93.8783' '95.1281'\n",
      " '56.78606' '77.84168' '70.02136' '67.901917' '65.258054' '56.532821'\n",
      " '70.47945808' '71.04766385']\n"
     ]
    }
   ],
   "source": [
    "# Проверка массива \"consumption_data\"\n",
    "check_array_properties(consumption_data, \"consumption_data\")\n",
    "print(\"consumption_data (первые з):\", consumption_data[:3])\n",
    "print(\"consumption_data (последний):\", consumption_data[-1])"
   ]
  },
  {
   "cell_type": "code",
   "execution_count": 5,
   "id": "d6060877",
   "metadata": {},
   "outputs": [
    {
     "name": "stdout",
     "output_type": "stream",
     "text": [
      "Свойства массива countries:\n",
      "  Размерность: 1\n",
      "  Форма: (217,)\n",
      "  Тип данных: <U25\n",
      "\n",
      "countries (первые з): ['Algeria' 'Angola' 'Benin']\n",
      "countries (последний): Venezuela\n"
     ]
    }
   ],
   "source": [
    "# Массив названий стран (одномерный, строки)\n",
    "countries = np.array([row[0] for row in generation_data])  # Названия стран\n",
    "check_array_properties(countries, \"countries\")\n",
    "print(\"countries (первые з):\", countries[:3])\n",
    "print(\"countries (последний):\", countries[-1])"
   ]
  },
  {
   "cell_type": "code",
   "execution_count": 6,
   "id": "7566ede5",
   "metadata": {},
   "outputs": [
    {
     "name": "stdout",
     "output_type": "stream",
     "text": [
      "Свойства массива generation:\n",
      "  Размерность: 2\n",
      "  Форма: (217, 30)\n",
      "  Тип данных: float64\n",
      "\n",
      "generation (первые з): [[17.199      18.267      18.703      18.09       19.124      19.739\n",
      "  21.448      23.282      23.88952    25.03064    25.99154    27.80964\n",
      "  29.38706    31.9074     33.12352    34.9758     37.83582    36.206\n",
      "  42.9985     48.17578    53.9845     56.3134     60.39972    64.68244\n",
      "  66.75504    71.49546    72.10903    76.685      72.73591277 77.53072719]\n",
      " [ 1.283       1.332       1.342       1.347       1.377       1.331\n",
      "   1.52        1.3         1.40402     1.59074     1.71668     1.93776\n",
      "   2.18608     2.72998     3.24054     3.1488      4.06368     4.60554\n",
      "   5.31724     5.52336     6.03408     7.97606     9.21666     9.30914\n",
      "  10.203511   10.67604    12.83194    15.4        16.6        16.429392  ]\n",
      " [ 0.023       0.024       0.048       0.029       0.0487      0.0517\n",
      "   0.0597      0.0677      0.07908     0.06216     0.05934     0.07532\n",
      "   0.0762      0.10064     0.142       0.20498     0.21344     0.12038\n",
      "   0.10816     0.09594     0.04612     0.08848     0.22666     0.31056\n",
      "   0.26004     0.3115      0.19028     0.2017      0.22608     0.24109728]]\n",
      "generation (последний): [ 65.744       67.579       69.498       71.598       73.745\n",
      "  76.245       78.947       78.777       83.24        87.733\n",
      "  86.646       89.267       96.216      101.385      107.904\n",
      " 111.84176    116.48164    116.703      110.7799     115.06854\n",
      " 118.5113     120.0401     100.35006    119.19668    104.67136\n",
      " 101.203265    97.263875    83.04078     94.23124208  94.74670541]\n"
     ]
    }
   ],
   "source": [
    "# Массив производства энергии (двумерные, вещественные)\n",
    "generation = np.array([row[1:] for row in generation_data])  # Производство электроэнергии странами\n",
    "generation = generation.astype(float)\n",
    "check_array_properties(generation, \"generation\")\n",
    "print(\"generation (первые з):\", generation[:3])\n",
    "print(\"generation (последний):\", generation[-1])"
   ]
  },
  {
   "cell_type": "code",
   "execution_count": 7,
   "id": "d57393d4",
   "metadata": {},
   "outputs": [
    {
     "name": "stdout",
     "output_type": "stream",
     "text": [
      "Свойства массива consumption:\n",
      "  Размерность: 2\n",
      "  Форма: (217, 30)\n",
      "  Тип данных: float64\n",
      "\n",
      "consumption (первые з): [[14.035      14.039      14.365      14.474      15.172      15.365\n",
      "  16.905      18.492      19.71552    20.64764    21.62354    23.61164\n",
      "  24.42506    27.5164     26.91052    28.3348     30.49982    28.315\n",
      "  33.8405     38.13478    42.8675     45.2014     49.20572    53.45544\n",
      "  55.82304    60.28346    62.11403    66.646      63.69490277 68.66337919]\n",
      " [ 1.013       1.062       1.071       1.074       1.085       1.216\n",
      "   1.328       1.106       1.19302     1.35274     1.45868     1.64976\n",
      "   1.59608     2.06798     2.85054     2.7178      3.64768     4.13154\n",
      "   4.69024     4.88636     5.33508     7.05006     8.14866     8.23114\n",
      "   9.036511    9.468667   11.384079   13.658591   14.754764   14.56049071]\n",
      " [ 0.229       0.221       0.252       0.242       0.2787      0.2797\n",
      "   0.2707      0.3147      0.39008     0.39516     0.39834     0.48832\n",
      "   0.5402      0.58264     0.606       0.65898     0.73544     0.77838\n",
      "   0.90716     0.90394     0.93312     0.93648     0.93366     1.08156\n",
      "   1.06104     1.125821    1.187964    0.9297      0.52408     0.52338299]]\n",
      "consumption (последний): [53.23       54.594      55.203      56.17       57.842      59.848\n",
      " 61.171      59.932      62.505      64.958      64.035      65.411\n",
      " 70.369      72.298      78.014      79.89276    83.55364    83.766\n",
      " 87.8999     91.18454    93.8783     95.1281     56.78606    77.84168\n",
      " 70.02136    67.901917   65.258054   56.532821   70.47945808 71.04766385]\n"
     ]
    }
   ],
   "source": [
    "# Массив потребления энергии (двумерные, вещественные)\n",
    "consumption = np.array([row[1:] for row in consumption_data])  # Производство электроэнергии странами\n",
    "consumption = consumption.astype(float)\n",
    "check_array_properties(consumption, \"consumption\")\n",
    "print(\"consumption (первые з):\", consumption[:3])\n",
    "print(\"consumption (последний):\", consumption[-1])"
   ]
  },
  {
   "cell_type": "code",
   "execution_count": 56,
   "id": "b813d338",
   "metadata": {},
   "outputs": [],
   "source": [
    "# 2. Построение одномерного массива ежегодного производства и потребления электроэнергии в среднем за последние 5 лет \n",
    "# (один массив – производство по всем странам, второй – потребление по всем странам). "
   ]
  },
  {
   "cell_type": "code",
   "execution_count": 8,
   "id": "82289d77",
   "metadata": {},
   "outputs": [
    {
     "name": "stdout",
     "output_type": "stream",
     "text": [
      "Свойства массива generation_last_5_years:\n",
      "  Размерность: 1\n",
      "  Форма: (217,)\n",
      "  Тип данных: float64\n",
      "\n",
      "Массив ежегодного производства электроэнергии в среднем за последние 5 лет:\n",
      "generation_last_5_years: [  74.11122599   14.3874744     0.23413146    2.61904963    1.68525657\n",
      "    0.32246728    0.45439525    8.16256728    0.1510808     0.30453447\n",
      "    0.1099824     3.4661865    10.79386807   10.24159544    0.05626893\n",
      "  196.52500264    1.38324531    0.43289781    0.72491401   14.01181369\n",
      "    2.21974979    0.30430876   17.00620656    2.26220932    0.0817928\n",
      "   11.40184278    0.5165136     0.5666464    31.44370639    2.11425569\n",
      "    1.71065787    3.34671057    1.73598681    2.93215213   36.9605384\n",
      "   18.3195429     1.607572      0.5104544    31.49698862           nan\n",
      "    0.88108324    0.0082419     0.09150928    5.0316582     0.54939056\n",
      "    0.21918918    0.365736    229.31783694   16.10176262    7.59917067\n",
      "    0.6507791    19.94601399    4.27968892    0.           15.609365\n",
      "    8.07844052    7.36456735   24.4119166    37.37542078   11.72588\n",
      "  100.98472593   15.2157632     5.776806   1059.9929956    19.481076\n",
      "   21.01438861  146.954        58.55020323    6.4800226    65.09119528\n",
      "   85.01043758   16.66132627   39.57404688   12.82296362    4.8118282\n",
      "   77.71428224   30.5868144     8.42522974    0.37271232   67.73102696\n",
      "  533.2189509   581.55840426    0.20232047   48.21749054   32.19927344\n",
      "   19.0880536    30.85367854  275.2623717     6.11998712    3.29126518\n",
      "    0.7167082     1.94214712    2.95650226  116.17941288    5.26183228\n",
      "  147.20896508  154.01324792   52.37209322   56.0325487    33.9541585\n",
      "   25.97493428   15.22672478  259.3423331   162.24168816   61.47782942\n",
      "  295.92583742  310.0639999     1.02765078    0.16748599  249.40149884\n",
      "   75.73247668    8.28888568    4.3338421    22.49904941    8.06402967\n",
      " 7190.0225706     0.042292      1.10470131    0.6403331     1.75412185\n",
      "   34.47890827 1595.2492692   279.3158668   983.88014012    0.03106516\n",
      "   34.78107936    0.81987564  160.125822      0.63368283    6.40569771\n",
      "    0.03671776    5.67665502    3.13992044   43.42958536    0.0032448\n",
      "   14.54850622  138.90778696    4.52240477  102.18569346    0.16210278\n",
      "   51.2671352     0.10902061  558.35508986   15.48976054  274.133884\n",
      "  184.1284628     0.4880312     0.06944595    0.51340805    0.06924516\n",
      "  220.19584046    0.           29.66627667  320.40246958   88.71709716\n",
      "   70.5797962    20.02778293   69.33960492   20.09403208   35.27788602\n",
      "    0.66790257   45.46100833  358.54624164   16.74437527  129.25548782\n",
      "    3.45951288    0.58702964  631.60639854    0.53446034  324.33895224\n",
      "    0.04965311 4130.2690856     0.            0.33668825  139.19661688\n",
      "    0.91248051    1.02140379    0.73458744    9.7847793   614.18486198\n",
      "    0.1377992     0.686811     80.95970054   78.57111658   11.7164468\n",
      "   19.38220815    0.11441213   18.42606471   30.5553888     5.92847636\n",
      "    0.01991956           nan    0.2125591            nan   13.6939968\n",
      "    1.18313088    0.9851559    10.7760548     4.18841579           nan\n",
      "    0.01736821    0.86628599    4.48907802   10.78241646   50.7176664\n",
      "   54.9322484    17.26865727    0.21186532    0.35845088    0.15053391\n",
      "    1.93569066    2.04819358    8.6007695     0.2484804     0.61870944\n",
      "   14.834899     94.0971735 ]\n"
     ]
    },
    {
     "name": "stderr",
     "output_type": "stream",
     "text": [
      "C:\\Users\\sergei\\AppData\\Local\\Temp\\ipykernel_23176\\470939196.py:2: RuntimeWarning: Mean of empty slice\n",
      "  generation_last_5_years = np.nanmean(generation[:, -5:], axis=1)\n"
     ]
    }
   ],
   "source": [
    "# Массив ежегодного производства электроэнергии в среднем за последние 5 лет\n",
    "generation_last_5_years = np.nanmean(generation[:, -5:], axis=1)\n",
    "check_array_properties(generation_last_5_years, \"generation_last_5_years\")\n",
    "print(\"Массив ежегодного производства электроэнергии в среднем за последние 5 лет:\")\n",
    "print(\"generation_last_5_years:\", generation_last_5_years)"
   ]
  },
  {
   "cell_type": "code",
   "execution_count": 9,
   "id": "49965a29",
   "metadata": {},
   "outputs": [
    {
     "name": "stdout",
     "output_type": "stream",
     "text": [
      "Свойства массива consumption_last_5_years:\n",
      "  Размерность: 1\n",
      "  Форма: (217,)\n",
      "  Тип данных: float64\n",
      "\n",
      "Массив ежегодного потребления электроэнергии в среднем за последние 5 лет:\n",
      "consumption_last_5_years: [  64.28035439   12.76531834    0.8581896     3.58826363    2.41878548\n",
      "    0.38246534    0.32455052    6.29769097    0.1410808     0.25822447\n",
      "    0.07913296    1.89292936    9.14616935    7.13665301    0.48610893\n",
      "  162.09972592    1.23781144    0.38719013    1.53008067    9.3813045\n",
      "    2.26861875    0.2485277    14.86277699    1.97219221    0.07699276\n",
      "    8.98877963    0.87169242    0.52182197   25.73381432    1.99484721\n",
      "    1.25450987    2.63071057    1.71492681    2.76459213   32.39702877\n",
      "   12.94712964    4.03877769    1.24842729   26.59076039    0.\n",
      "    0.76331379    0.0066843     0.0796127     4.6977852     0.51945056\n",
      "    0.14058918    0.34353263  200.64908812   12.90743151    6.64550422\n",
      "    1.2503993    15.98697856    2.94686172    0.           12.85550706\n",
      "    8.11025916    5.74476735   21.3565966    34.28943747   12.07175695\n",
      "   91.70567678   12.11009373    6.616206    946.67879564   14.90600134\n",
      "   14.90608671  127.12269636   54.5701257     6.61799537   67.45781282\n",
      "   84.01744874   11.5942977    30.44324585   16.31669193    4.60608591\n",
      "   61.31811054   35.00159984    8.5748771     0.35343448   83.24617134\n",
      "  445.22326374  520.23463954    0.19561889   51.3648025    41.7923527\n",
      "   18.53401862   28.82105478  296.44321744    6.76433568   11.29476618\n",
      "    6.44814032    2.41090552    2.72718226  113.16250674    6.38110276\n",
      "  125.6636564   151.14790696   48.40772482   49.55819424   29.6764966\n",
      "   26.34536406   13.65392358  240.3715325   129.96320562   56.1030738\n",
      "  263.4906876   303.5439968     5.38118744    0.15716212  238.59747842\n",
      "   71.10562379    2.48229034    3.8664421    17.83611817    9.46680016\n",
      " 6846.2069926     0.040492      1.0278253     0.61573317    1.6659396\n",
      "   45.01298149 1330.9362418   256.32985952  940.32185964    0.02642516\n",
      "    5.32989408    5.45014631  146.49321278    0.61238198    7.12920611\n",
      "    0.03074823    6.80136531    3.075531     40.48121976    0.00286952\n",
      "   12.2382561   121.09866952    4.21702143   92.83647026    0.14641212\n",
      "   50.69509752    0.09223547  539.51160504   14.16983674  265.07196974\n",
      "  196.75148492    0.39120263    0.06362595    0.49203005    0.06353916\n",
      "  206.11583802    0.           29.24314854  282.5080035    50.19248165\n",
      "   61.6450134    17.95472097   62.73056114   18.15168701   31.66409541\n",
      "    5.85732829   42.67852262  324.51712578   12.59262347  121.78948782\n",
      "    2.75058048    0.54598964  547.31965094    0.51766036  285.825534\n",
      "    0.04865018 3957.497224      0.            0.28668825  124.66281688\n",
      "    0.75068051    0.97386232    0.97726944    8.90029742  539.93348198\n",
      "    0.1165992     0.657811     77.38100838   73.10575588    9.88611036\n",
      "   16.02117386    0.10832793   16.05907091   25.55934225    6.31380309\n",
      "    0.01931947    0.            0.19387501    0.           11.39322528\n",
      "    0.94016349    0.35573324    7.6123852     3.04027292    0.\n",
      "    0.01698621    0.73967813    4.13489526    9.07723923   11.78620411\n",
      "   48.8196734    16.29027267    0.17086532    0.33190268    0.14058072\n",
      "    2.36006666    1.9289641     8.2067123     0.23562606    0.56510944\n",
      "   11.99507047   66.24398279]\n"
     ]
    }
   ],
   "source": [
    "# Массив ежегодного потребления электроэнергии в среднем за последние 5 лет\n",
    "consumption_last_5_years = np.nanmean(consumption[:, -5:], axis=1)\n",
    "check_array_properties(consumption_last_5_years, \"consumption_last_5_years\")\n",
    "print(\"Массив ежегодного потребления электроэнергии в среднем за последние 5 лет:\")\n",
    "print(\"consumption_last_5_years:\", consumption_last_5_years)"
   ]
  },
  {
   "cell_type": "code",
   "execution_count": 63,
   "id": "c29e1f1a",
   "metadata": {},
   "outputs": [],
   "source": [
    "# 3. Напишите выражения, позволяющие получить ответ на следующие вопросы:"
   ]
  },
  {
   "cell_type": "code",
   "execution_count": 11,
   "id": "a046c51d",
   "metadata": {},
   "outputs": [
    {
     "name": "stdout",
     "output_type": "stream",
     "text": [
      "Свойства массива total_consumption_per_year:\n",
      "  Размерность: 1\n",
      "  Форма: (30,)\n",
      "  Тип данных: float64\n",
      "\n",
      "Суммарное (по всем странам) потребление электроэнергии за каждый год:\n",
      "total_consumption_per_year: [10569.01620096 10854.56291897 11104.65383426 11476.47904131\n",
      " 11805.86547273 12122.03311393 12419.80887326 12685.75413125\n",
      " 13230.24950221 13486.48970448 13938.77879299 14455.56232878\n",
      " 15128.09797911 15725.98237628 16438.21377084 17205.11980814\n",
      " 17477.47100677 17435.68735807 18748.16072401 19438.82349584\n",
      " 19918.25495428 20573.09641373 20981.239762   21400.01776982\n",
      " 22022.68687939 22716.20610151 23530.92004845 23915.65649767\n",
      " 23959.68010944 25336.70701018]\n"
     ]
    },
    {
     "data": {
      "image/png": "[encoded data removed]",
      "text/plain": [
       "<Figure size 1000x600 with 1 Axes>"
      ]
     },
     "metadata": {},
     "output_type": "display_data"
    }
   ],
   "source": [
    "#3.1. Суммарное (по всем странам) потребление электроэнергии за каждый год.\n",
    "total_consumption_per_year = np.nansum(consumption, axis=0) \n",
    "check_array_properties(total_consumption_per_year, \"total_consumption_per_year\")\n",
    "print(\"Суммарное (по всем странам) потребление электроэнергии за каждый год:\")\n",
    "print(\"total_consumption_per_year:\", total_consumption_per_year)\n",
    "# Создаем массив годов\n",
    "years = np.arange(1992, 2022)\n",
    "# Создаем график\n",
    "plt.figure(figsize=(10, 6))\n",
    "plt.plot(years, total_consumption_per_year, marker='o', linestyle='-', color='blue')\n",
    "# Настройка графика\n",
    "plt.title('Суммарное (по всем странам) потребление электроэнергии за каждый год с 1992 по 2021')\n",
    "plt.xlabel('Год')\n",
    "plt.ylabel('Электроэнергия (млрд. кВт*ч)')\n",
    "plt.xticks(years, rotation=45)  # Угол поворота меток на оси X (года)\n",
    "plt.grid()\n",
    "plt.tight_layout()\n",
    "plt.show()\n"
   ]
  },
  {
   "cell_type": "code",
   "execution_count": 12,
   "id": "50fd596b",
   "metadata": {},
   "outputs": [
    {
     "name": "stdout",
     "output_type": "stream",
     "text": [
      "Максимальное количество электроэнергии, которое произвела одна страна за один год с 1992 по 2021:\n",
      "В 2021 году страна China произвела максимальное количество электроэнергии за один год, равное 8151.518231 млрд. кВт*ч\n"
     ]
    }
   ],
   "source": [
    "#3.2. Максимальное количество электроэнергии, которое произвела одна страна за\n",
    "# один год (указание: чтобы не учитывать отсутствующие и некорректные данные\n",
    "# (nan) воспользуйтесь NaN-безопасной версией функции max, то есть nanmax).\n",
    "max_generation = np.nanmax(generation)\n",
    "# Находим координаты (индексы) максимального значения\n",
    "max_index = np.argwhere(generation == max_generation)\n",
    "print('Максимальное количество электроэнергии, которое произвела одна страна за один год с 1992 по 2021:')\n",
    "print(f'В {years[max_index[0][1]]} году страна {countries[max_index[0][0]]} произвела максимальное количество электроэнергии за один год, равное {max_generation} млрд. кВт*ч')"
   ]
  },
  {
   "cell_type": "code",
   "execution_count": 13,
   "id": "70eff819",
   "metadata": {},
   "outputs": [
    {
     "name": "stdout",
     "output_type": "stream",
     "text": [
      "Cтраны, которые производят более 500 млрд. кВт*ч электроэнергии ежегодно в среднем за последние 5 лет:\n",
      "['Russia' 'France' 'Germany' 'China' 'India' 'Japan' 'South Korea'\n",
      " 'Canada' 'United States' 'Brazil']\n",
      "Их значения соответственно:\n",
      "[1059.9929956   533.2189509   581.55840426 7190.0225706  1595.2492692\n",
      "  983.88014012  558.35508986  631.60639854 4130.2690856   614.18486198]\n"
     ]
    }
   ],
   "source": [
    "#3.3. Список стран, которые производят более 500 млрд. кВт*ч электроэнергии\n",
    "# ежегодно в среднем за последние 5 лет (воспользуйтесь массивом, полученным на шаге 2).\n",
    "countries_high_generation = countries[generation_last_5_years > 500]\n",
    "values_high_generation = generation_last_5_years[generation_last_5_years > 500]\n",
    "print('Cтраны, которые производят более 500 млрд. кВт*ч электроэнергии ежегодно в среднем за последние 5 лет:')\n",
    "print(countries_high_generation)\n",
    "print('Их значения соответственно:')\n",
    "print(values_high_generation)"
   ]
  },
  {
   "cell_type": "code",
   "execution_count": 14,
   "id": "f4b12a63",
   "metadata": {},
   "outputs": [
    {
     "name": "stdout",
     "output_type": "stream",
     "text": [
      "10% стран, которые потребляют больше всего электроэнергии ежегодно в среднем за последние 5 лет:\n",
      "['South Africa' 'Russia' 'France' 'Germany' 'Italy' 'Spain' 'Turkiye'\n",
      " 'United Kingdom' 'Australia' 'China' 'India' 'Indonesia' 'Japan'\n",
      " 'South Korea' 'Taiwan' 'Vietnam' 'Iran' 'Saudi Arabia' 'Canada' 'Mexico'\n",
      " 'United States' 'Brazil']\n",
      "Их значения соответственно:\n",
      "[ 200.64908812  946.67879564  445.22326374  520.23463954  296.44321744\n",
      "  240.3715325   263.4906876   303.5439968   238.59747842 6846.2069926\n",
      " 1330.9362418   256.32985952  940.32185964  539.51160504  265.07196974\n",
      "  206.11583802  282.5080035   324.51712578  547.31965094  285.825534\n",
      " 3957.497224    539.93348198]\n"
     ]
    }
   ],
   "source": [
    "#3.4. 10% стран, которые потребляют больше всего электроэнергии ежегодно в\n",
    "# среднем за последние 5 лет (указание: вначале определите соответствующую\n",
    "# квантиль в массиве, построенном на шаге 2).\n",
    "top_10_percent_consumption = np.nanquantile(consumption_last_5_years, 0.9)\n",
    "countries_top_10_consumption = countries[consumption_last_5_years > top_10_percent_consumption]\n",
    "values_top_10_consumption = consumption_last_5_years[consumption_last_5_years > top_10_percent_consumption]\n",
    "print('10% стран, которые потребляют больше всего электроэнергии ежегодно в среднем за последние 5 лет:')\n",
    "print(countries_top_10_consumption)\n",
    "print('Их значения соответственно:')\n",
    "print(values_top_10_consumption)"
   ]
  },
  {
   "cell_type": "code",
   "execution_count": 15,
   "id": "ffdaad04",
   "metadata": {},
   "outputs": [
    {
     "name": "stdout",
     "output_type": "stream",
     "text": [
      "Список стран, которые увеличили производство электроэнергии в 2021 году по сравнению с 1992 годом более, чем в 10 раз:\n",
      "['Angola' 'Benin' 'Equatorial Guinea' 'Ethiopia' 'Lesotho' 'Mali'\n",
      " 'Mauritania' 'Mozambique' 'Namibia' 'Sudan' 'Cambodia' 'China' 'Laos'\n",
      " 'Maldives' 'Vietnam' 'Turks and Caicos Islands']\n",
      "Их значения соответственно:\n",
      "Было в 1992:\n",
      "[  1.283   0.023   0.018   1.221   0.      0.271   0.139   0.408   0.\n",
      "   1.59    0.166 716.04    0.898   0.028   9.43    0.026]\n",
      "Стало в 2021:\n",
      "[  16.429392      0.24109728    1.41812456   14.67815115    0.50122\n",
      "    3.38822062    1.87585522   19.90774462    1.56716      16.59542448\n",
      "    8.69423233 8151.518231     39.9708168     0.66198869  243.7683215\n",
      "    0.27254   ]\n"
     ]
    }
   ],
   "source": [
    "#3.5. Список стран, которые увеличили производство электроэнергии в 2021 году по\n",
    "# сравнению с 1992 годом более, чем в 10 раз.\n",
    "increased_generation_countries = countries[generation[:, -1] > 10 * generation[:, 0]]\n",
    "increased_generation_value = generation[generation[:, -1] > 10 * generation[:, 0]]\n",
    "print('Список стран, которые увеличили производство электроэнергии в 2021 году по сравнению с 1992 годом более, чем в 10 раз:')\n",
    "print(increased_generation_countries)\n",
    "print('Их значения соответственно:')\n",
    "print('Было в 1992:')\n",
    "print(increased_generation_value[:, 0])\n",
    "print('Стало в 2021:')\n",
    "print(increased_generation_value[:, -1])\n"
   ]
  },
  {
   "cell_type": "code",
   "execution_count": 16,
   "id": "1cc6816d",
   "metadata": {},
   "outputs": [
    {
     "name": "stdout",
     "output_type": "stream",
     "text": [
      "Список стран, которые в сумме за все годы потратили больше 100 млрд. кВт*ч электроэнергии и при этом произвели меньше, чем потратили:\n",
      "['Zimbabwe' 'Belarus' 'Moldova' 'Belgium' 'Croatia' 'Finland' 'Hungary'\n",
      " 'Italy' 'Latvia' 'Luxembourg' 'Netherlands' 'North Macedonia' 'Hong Kong']\n",
      "Их значения соответственно:\n",
      "Потратели за все годы\n",
      "[ 260.62253578  922.32622734  202.82303    2395.9070157   418.56521666\n",
      " 2356.6366107  1066.9596235  8576.5745452   179.2878714   177.5383606\n",
      " 3106.4053147   186.88380578 1152.85186444]\n",
      "Произвели за все годы\n",
      "[ 238.1844426   895.45714389  180.22303    2342.3579569   342.3915751\n",
      " 2069.4248848   981.6842182  7879.0303155   146.6568336    38.265581\n",
      " 2896.5128274   177.7604534   998.42300134]\n"
     ]
    }
   ],
   "source": [
    "#3.6. Список стран, которые в сумме за все годы потратили больше 100 млрд. кВт*ч\n",
    "# электроэнергии и при этом произвели меньше, чем потратили.\n",
    "countries_high_consumption_low_generation = countries[(np.nansum(consumption, axis=1) > 100) & (np.nansum(generation, axis=1) < np.nansum(consumption, axis=1))]\n",
    "value_consumption_high_consumption_low_generation = np.nansum(consumption[(np.nansum(consumption, axis=1) > 100) & (np.nansum(generation, axis=1) < np.nansum(consumption, axis=1))], axis=1)\n",
    "value_generation_high_consumption_low_generation = np.nansum(generation[(np.nansum(consumption, axis=1) > 100) & (np.nansum(generation, axis=1) < np.nansum(consumption, axis=1))], axis=1)\n",
    "print('Список стран, которые в сумме за все годы потратили больше 100 млрд. кВт*ч электроэнергии и при этом произвели меньше, чем потратили:')\n",
    "print(countries_high_consumption_low_generation)\n",
    "print('Их значения соответственно:')\n",
    "print('Потратели за все годы')\n",
    "print(value_consumption_high_consumption_low_generation)\n",
    "print('Произвели за все годы')\n",
    "print(value_generation_high_consumption_low_generation)"
   ]
  },
  {
   "cell_type": "code",
   "execution_count": 17,
   "id": "0cd21582",
   "metadata": {},
   "outputs": [
    {
     "name": "stdout",
     "output_type": "stream",
     "text": [
      "Страна, потратившая наибольшее количество электроэнергии в 2020 году:\n",
      "В 2020 году страна China потратила наибольшее количество электроэнергии в 2020 году, равное 7115.077185 млрд. кВт*ч\n"
     ]
    }
   ],
   "source": [
    "#3.7. Какая страна потратила наибольшее количество электроэнергии в 2020 году?\n",
    "max_consumption_country_2020 = countries[np.nanargmax(consumption[:, -2])]\n",
    "# Находим координату (индекс) страны\n",
    "index = np.argwhere(countries == max_consumption_country_2020)\n",
    "print('Страна, потратившая наибольшее количество электроэнергии в 2020 году:')\n",
    "print(f'В 2020 году страна {max_consumption_country_2020} потратила наибольшее количество электроэнергии в 2020 году, равное {consumption[index[0][0], -2]} млрд. кВт*ч')"
   ]
  }
 ],
 "metadata": {
  "kernelspec": {
   "display_name": "Python 3",
   "language": "python",
   "name": "python3"
  },
  "language_info": {
   "codemirror_mode": {
    "name": "ipython",
    "version": 3
   },
   "file_extension": ".py",
   "mimetype": "text/x-python",
   "name": "python",
   "nbconvert_exporter": "python",
   "pygments_lexer": "ipython3",
   "version": "3.11.9"
  }
 },
 "nbformat": 4,
 "nbformat_minor": 5
}
