{
 "cells": [
  {
   "cell_type": "code",
   "execution_count": null,
   "id": "fd2f52e5",
   "metadata": {},
   "outputs": [],
   "source": [
    "''' \n",
    "Задание 1 (7 баллов) \n",
    "1. Загрузите данные из файла «athlete_events.csv» о спортсменах – участниках \n",
    "олимпийских игр (ОИ). \n",
    "Данные содержат следующие признаки: \n",
    "ID – уникальный идентификатор спортсмена \n",
    "Name – имя спортсмена \n",
    "Sex – пол (M – мужской, F – женский) \n",
    "Age – возраст (полных лет, целое число) \n",
    "Height – рост в сантиметрах \n",
    "Weight – вес в килограммах \n",
    "Team – название команды (страны) \n",
    "NOC – трехбуквенное обозначение страны (по стандарту МОК) \n",
    "Games – год и вид ОИ (летние или зимние) \n",
    "Year – год проведения ОИ \n",
    "Season – вид ОИ (летние или зимние) \n",
    "City – город проведения ОИ \n",
    "Sport – вид спорта \n",
    "Event – соревнование (дисциплина) \n",
    "Medal – завоеванная медаль (Gold, Silver, Bronze или NA) \n",
    "2. Определите количество значений каждого из признаков в загруженных данных. По \n",
    "каким значениям имеются не все данные? По какому значению отсутствующих \n",
    "данных больше всего? Подсказка: воспользуйтесь функцией count или info.  \n",
    "3. Выведите статистическую информацию (среднее значение, стандартное \n",
    "отклонение, минимальное и максимальное значение, значение квартилей) по \n",
    "полям: возраст, рост, вес. Подсказка: воспользуйтесь функцией describe. \n",
    "4. Ответьте на вопросы, написав соответствующий код \n",
    "1) Сколько лет было самому молодому участнику олимпийских игр в 1992 \n",
    "году? Как звали этого участника и в какой дисциплине он(а) участвовал(а)? \n",
    "2) Выведите список всех видов спорта, которые когда-либо входили в \n",
    "программу олимпийских игр. (Каждый вид спорта должен присутствовать \n",
    "в списке один раз.) \n",
    "3) Каков средний рост теннисисток (пол – женский, вид спорта – большой \n",
    "теннис), участвовавших в играх 2000 года? \n",
    "4) Сколько золотых медалей в настольном теннисе выиграл Китай на ОИ в \n",
    "2008 году? \n",
    "5) Как изменилось количество видов спорта на летних ОИ в 2004 году по \n",
    "сравнению с летними ОИ в 1988 году? \n",
    "6) Постройте гистограмму распределения возраста мужчин-керлингистов \n",
    "(Sport == ‘Curling’), участвовавших в олимпиаде 2014 года. Подсказка: для \n",
    "построения гистограммы можно использовать функцию hist() из \n",
    "библиотеки matplotlib с параметрами по умолчанию (либо можете \n",
    "использовать любую другую функцию на свое усмотрение). \n",
    "7)  Рассмотрим зимнюю олимпиаду 2006 года. Сгруппируйте данные по стране \n",
    "(используйте признак «NOC») и посчитайте для каждой страны количество \n",
    "завоеванных медалей и средний возраст спортсменов. Выведите только те \n",
    "страны, которые завоевали хотя бы одну медаль. \n",
    "8) Продолжим рассматривать зимнюю олимпиаду 2006 года. Посчитайте, \n",
    "сколько медалей каждого достоинства завоевала каждая из стран-участниц \n",
    "(страны, не завоевавшие ни одной медали, можно не выводить). Для этого \n",
    "сгруппируйте данные по стране и по виду медали. Представьте данные в \n",
    "виде сводной таблицы (pivot_table). В сводной таблице не должно быть \n",
    "отсутствующих значений (NaN), замените их на 0. \n",
    "'''"
   ]
  },
  {
   "cell_type": "code",
   "execution_count": 1,
   "id": "3cac428e",
   "metadata": {},
   "outputs": [],
   "source": [
    "# Импорт необходимых библиотек\n",
    "import pandas as pd\n",
    "import matplotlib.pyplot as plt"
   ]
  },
  {
   "cell_type": "code",
   "execution_count": 2,
   "id": "0e32ea9b",
   "metadata": {},
   "outputs": [],
   "source": [
    "#1. Загрузите данные из файла «athlete_events.csv» о спортсменах – участниках олимпийских игр (ОИ). \n",
    "data = pd.read_csv('athlete_events.csv')"
   ]
  },
  {
   "cell_type": "code",
   "execution_count": 3,
   "id": "0216dbf5",
   "metadata": {},
   "outputs": [
    {
     "name": "stdout",
     "output_type": "stream",
     "text": [
      "Информация о загруженных данных:\n",
      "<class 'pandas.core.frame.DataFrame'>\n",
      "RangeIndex: 271116 entries, 0 to 271115\n",
      "Data columns (total 15 columns):\n",
      " #   Column  Non-Null Count   Dtype  \n",
      "---  ------  --------------   -----  \n",
      " 0   ID      271116 non-null  int64  \n",
      " 1   Name    271116 non-null  object \n",
      " 2   Sex     271116 non-null  object \n",
      " 3   Age     261642 non-null  float64\n",
      " 4   Height  210945 non-null  float64\n",
      " 5   Weight  208241 non-null  float64\n",
      " 6   Team    271116 non-null  object \n",
      " 7   NOC     271116 non-null  object \n",
      " 8   Games   271116 non-null  object \n",
      " 9   Year    271116 non-null  int64  \n",
      " 10  Season  271116 non-null  object \n",
      " 11  City    271116 non-null  object \n",
      " 12  Sport   271116 non-null  object \n",
      " 13  Event   271116 non-null  object \n",
      " 14  Medal   39783 non-null   object \n",
      "dtypes: float64(3), int64(2), object(10)\n",
      "memory usage: 31.0+ MB\n",
      "None\n"
     ]
    }
   ],
   "source": [
    "#2. Определите количество значений каждого из признаков в загруженных данных. По \n",
    "#каким значениям имеются не все данные? По какому значению отсутствующих \n",
    "#данных больше всего? Подсказка: воспользуйтесь функцией count или info. \n",
    "print('Информация о загруженных данных:')\n",
    "print(data.info())"
   ]
  },
  {
   "cell_type": "code",
   "execution_count": null,
   "id": "40300c48",
   "metadata": {},
   "outputs": [],
   "source": [
    "# Как видно из вывода сверху, максимальное количество значений в признаке 271116 значений."
   ]
  },
  {
   "cell_type": "code",
   "execution_count": 4,
   "id": "73924d34",
   "metadata": {},
   "outputs": [
    {
     "name": "stdout",
     "output_type": "stream",
     "text": [
      "Количество значений по каждому признаку:\n",
      "ID        271116\n",
      "Name      271116\n",
      "Sex       271116\n",
      "Age       261642\n",
      "Height    210945\n",
      "Weight    208241\n",
      "Team      271116\n",
      "NOC       271116\n",
      "Games     271116\n",
      "Year      271116\n",
      "Season    271116\n",
      "City      271116\n",
      "Sport     271116\n",
      "Event     271116\n",
      "Medal      39783\n",
      "dtype: int64\n"
     ]
    }
   ],
   "source": [
    "# Количество значений по каждому признаку\n",
    "value_counts = data.count()\n",
    "print(f'Количество значений по каждому признаку:\\n{value_counts}')"
   ]
  },
  {
   "cell_type": "code",
   "execution_count": 5,
   "id": "658b0f17",
   "metadata": {},
   "outputs": [
    {
     "name": "stdout",
     "output_type": "stream",
     "text": [
      "Признаки, содержащие не все данные, и количество их пропусков:\n",
      "Age         9474\n",
      "Height     60171\n",
      "Weight     62875\n",
      "Medal     231333\n",
      "dtype: int64\n"
     ]
    }
   ],
   "source": [
    "# Поиск признаков с отсутствующими данными\n",
    "missing_data = data.isnull().sum()\n",
    "print(f'Признаки, содержащие не все данные, и количество их пропусков:\\n{missing_data[missing_data > 0]}')"
   ]
  },
  {
   "cell_type": "code",
   "execution_count": 6,
   "id": "d1d1fff9",
   "metadata": {},
   "outputs": [
    {
     "name": "stdout",
     "output_type": "stream",
     "text": [
      "Признак с наибольшим количеством отсутствующих данных: Medal, количество пропусков: 231333\n"
     ]
    }
   ],
   "source": [
    "# Признак с наибольшим количеством отсутствующих данных\n",
    "most_missing = missing_data.idxmax()\n",
    "print(f'Признак с наибольшим количеством отсутствующих данных: {most_missing}, количество пропусков: {missing_data[most_missing]}')"
   ]
  },
  {
   "cell_type": "code",
   "execution_count": 7,
   "id": "847b1e8e",
   "metadata": {},
   "outputs": [
    {
     "name": "stdout",
     "output_type": "stream",
     "text": [
      "Статистическая информация:\n",
      "                 Age         Height         Weight\n",
      "count  261642.000000  210945.000000  208241.000000\n",
      "mean       25.556898     175.338970      70.702393\n",
      "std         6.393561      10.518462      14.348020\n",
      "min        10.000000     127.000000      25.000000\n",
      "25%        21.000000     168.000000      60.000000\n",
      "50%        24.000000     175.000000      70.000000\n",
      "75%        28.000000     183.000000      79.000000\n",
      "max        97.000000     226.000000     214.000000\n"
     ]
    }
   ],
   "source": [
    "#3. Выведите статистическую информацию (среднее значение, стандартное \n",
    "#отклонение, минимальное и максимальное значение, значение квартилей) по \n",
    "#полям: возраст, рост, вес. Подсказка: воспользуйтесь функцией describe. \n",
    "stats = data[['Age', 'Height', 'Weight']].describe()\n",
    "print(f'Статистическая информация:\\n{stats}')"
   ]
  },
  {
   "cell_type": "code",
   "execution_count": null,
   "id": "78e76871",
   "metadata": {},
   "outputs": [],
   "source": [
    "'''\n",
    "где:\n",
    "count - количество непустых записей в столбце;\n",
    "mean - среднее значение значений в столбце;\n",
    "std - стандартное отклонение, показывает, как значения распределены;\n",
    "min - минимальное значение в столбце;\n",
    "25% - 25-й процентиль (Q1), означает, что 25% точек данных меньше этого значения;\n",
    "50% - медианное значение (50-й процентиль), ниже которого находятся половины точек данных;\n",
    "75% - 75-й процентиль (Q3), означает, что 75% точек данных ниже этого значения;\n",
    "max - максимальное значение в столбце.\n",
    "'''"
   ]
  },
  {
   "cell_type": "code",
   "execution_count": null,
   "id": "2bbb10d9",
   "metadata": {},
   "outputs": [],
   "source": [
    "#4. Ответьте на вопросы, написав соответствующий код "
   ]
  },
  {
   "cell_type": "code",
   "execution_count": 8,
   "id": "827a463e",
   "metadata": {},
   "outputs": [
    {
     "name": "stdout",
     "output_type": "stream",
     "text": [
      "Информация о самом молодом участнике олимпийских игр в 1992 году (имя, возраст, дисциплина):\n",
      "                                  Name   Age                      Event\n",
      "73461  Carlos Bienvenido Front Barrera  11.0  Rowing Men's Coxed Eights\n"
     ]
    }
   ],
   "source": [
    "#1) Сколько лет было самому молодому участнику олимпийских игр в 1992 году? \n",
    "# Как звали этого участника и в какой дисциплине он(а) участвовал(а)?\n",
    "youngest_1992 = data[(data['Year'] == 1992) & (data['Age'] == data[data['Year'] == 1992]['Age'].min())]\n",
    "youngest_info = youngest_1992[['Name','Age', 'Event']]\n",
    "print(f'Информация о самом молодом участнике олимпийских игр в 1992 году (имя, возраст, дисциплина):\\n{youngest_info}')"
   ]
  },
  {
   "cell_type": "code",
   "execution_count": 9,
   "id": "f112153d",
   "metadata": {},
   "outputs": [
    {
     "name": "stdout",
     "output_type": "stream",
     "text": [
      "Список всех видов спорта, которые когда-либо входили в программу олимпийских игр: \n",
      "['Basketball' 'Judo' 'Football' 'Tug-Of-War' 'Speed Skating'\n",
      " 'Cross Country Skiing' 'Athletics' 'Ice Hockey' 'Swimming' 'Badminton'\n",
      " 'Sailing' 'Biathlon' 'Gymnastics' 'Art Competitions' 'Alpine Skiing'\n",
      " 'Handball' 'Weightlifting' 'Wrestling' 'Luge' 'Water Polo' 'Hockey'\n",
      " 'Rowing' 'Bobsleigh' 'Fencing' 'Equestrianism' 'Shooting' 'Boxing'\n",
      " 'Taekwondo' 'Cycling' 'Diving' 'Canoeing' 'Tennis' 'Modern Pentathlon'\n",
      " 'Figure Skating' 'Golf' 'Softball' 'Archery' 'Volleyball'\n",
      " 'Synchronized Swimming' 'Table Tennis' 'Nordic Combined' 'Baseball'\n",
      " 'Rhythmic Gymnastics' 'Freestyle Skiing' 'Rugby Sevens' 'Trampolining'\n",
      " 'Beach Volleyball' 'Triathlon' 'Ski Jumping' 'Curling' 'Snowboarding'\n",
      " 'Rugby' 'Short Track Speed Skating' 'Skeleton' 'Lacrosse' 'Polo'\n",
      " 'Cricket' 'Racquets' 'Motorboating' 'Military Ski Patrol' 'Croquet'\n",
      " 'Jeu De Paume' 'Roque' 'Alpinism' 'Basque Pelota' 'Aeronautics']\n"
     ]
    }
   ],
   "source": [
    "#2) Выведите список всех видов спорта, которые когда-либо входили в \n",
    "#программу олимпийских игр. (Каждый вид спорта должен присутствовать \n",
    "#в списке один раз.) \n",
    "sports_list = data['Sport'].unique()\n",
    "print(f'Список всех видов спорта, которые когда-либо входили в программу олимпийских игр: \\n{sports_list}')"
   ]
  },
  {
   "cell_type": "code",
   "execution_count": 10,
   "id": "384d5146",
   "metadata": {},
   "outputs": [
    {
     "name": "stdout",
     "output_type": "stream",
     "text": [
      "Средний рост теннисисток, участвовавших в играх 2000 года: 171.792 см.\n"
     ]
    }
   ],
   "source": [
    "#3) Каков средний рост теннисисток (пол – женский, вид спорта – большой \n",
    "#теннис), участвовавших в играх 2000 года?\n",
    "tennis_2000 = data[(data['Year'] == 2000) & (data['Sex'] == 'F') & (data['Sport'] == 'Tennis')]['Height'].mean()\n",
    "print(f'Средний рост теннисисток, участвовавших в играх 2000 года: {tennis_2000} см.')"
   ]
  },
  {
   "cell_type": "code",
   "execution_count": 11,
   "id": "9e955b7a",
   "metadata": {},
   "outputs": [
    {
     "name": "stdout",
     "output_type": "stream",
     "text": [
      "На ОИ в 2008 году Китай выиграл в настольном теннисе 4 золотых медалей по дисциплинам, 8 китайцев получили золотые медали:\n",
      "                Name   Team  NOC  Year         Sport  \\\n",
      "86741        Guo Yue  China  CHN  2008  Table Tennis   \n",
      "144925        Ma Lin  China  CHN  2008  Table Tennis   \n",
      "144926        Ma Lin  China  CHN  2008  Table Tennis   \n",
      "256549      Wang Hao  China  CHN  2008  Table Tennis   \n",
      "256666    Wang Liqin  China  CHN  2008  Table Tennis   \n",
      "256711      Wang Nan  China  CHN  2008  Table Tennis   \n",
      "269030  Zhang Yining  China  CHN  2008  Table Tennis   \n",
      "269031  Zhang Yining  China  CHN  2008  Table Tennis   \n",
      "\n",
      "                               Event Medal  \n",
      "86741      Table Tennis Women's Team  Gold  \n",
      "144925    Table Tennis Men's Singles  Gold  \n",
      "144926       Table Tennis Men's Team  Gold  \n",
      "256549       Table Tennis Men's Team  Gold  \n",
      "256666       Table Tennis Men's Team  Gold  \n",
      "256711     Table Tennis Women's Team  Gold  \n",
      "269030  Table Tennis Women's Singles  Gold  \n",
      "269031     Table Tennis Women's Team  Gold  \n"
     ]
    }
   ],
   "source": [
    "#4) Сколько золотых медалей в настольном теннисе выиграл Китай на ОИ в 2008 году?\n",
    "gold_medals_china_table_tennis_2008 = data[(data['NOC'] == 'CHN') & (data['Sport'] == 'Table Tennis') & (data['Year'] == 2008) & (data['Medal'] == 'Gold')]\n",
    "people_gold_medals_china_table_tennis_2008 = gold_medals_china_table_tennis_2008[['Name', 'Team', 'NOC', 'Year', 'Sport', 'Event', 'Medal']]\n",
    "count_gold_medals_china_table_tennis_2008 = gold_medals_china_table_tennis_2008.shape[0]\n",
    "count2_gold_medals_china_table_tennis_2008 = people_gold_medals_china_table_tennis_2008['Event'].nunique()\n",
    "print(f'На ОИ в 2008 году Китай выиграл в настольном теннисе {count2_gold_medals_china_table_tennis_2008} золотых медалей по дисциплинам, \\\n",
    "{count_gold_medals_china_table_tennis_2008} китайцев получили золотые медали:\\n{people_gold_medals_china_table_tennis_2008}')\n",
    "# Примечание: количество считается по человеку, т.е. если дициплина командная из 3 человек, то будет считаться 3 золотых медали, а не 1.\n",
    "# То есть 8 челоовек получило золотые медали на ОИ в 2008 году в настольном теннисе, а Китай выиграл золотые медали в 4 дисциплинах настольного тениса (смотреть таблицу снизу)"
   ]
  },
  {
   "cell_type": "code",
   "execution_count": 12,
   "id": "7ec4ea8a",
   "metadata": {},
   "outputs": [
    {
     "name": "stdout",
     "output_type": "stream",
     "text": [
      "Количество видов спорта на летних ОИ в 2004 году по сравнению с 1988 годом увеличилось на 7\n"
     ]
    }
   ],
   "source": [
    "#5) Как изменилось количество видов спорта на летних ОИ в 2004 году по \n",
    "#сравнению с летними ОИ в 1988 году?\n",
    "# *Примечания: в условии 'летних ОИ', поэтому в условия добавил data['Season'] == 'Summer', хотя ОИ чередуют сезоны, впринципе можно не добавлять\n",
    "count_sports_2004 = data[(data['Year'] == 2004) & (data['Season'] == 'Summer')]['Sport'].nunique()\n",
    "count_sports_1988 = data[(data['Year'] == 1988) & (data['Season'] == 'Summer')]['Sport'].nunique()\n",
    "if (count_sports_2004 > count_sports_1988):\n",
    "    change_in_sports = count_sports_2004 - count_sports_1988\n",
    "    print(f\"Количество видов спорта на летних ОИ в 2004 году по сравнению с 1988 годом увеличилось на {change_in_sports}\")\n",
    "else:\n",
    "    change_in_sports = count_sports_1988 - count_sports_2004\n",
    "    print(f\"Количество видов спорта на летних ОИ в 2004 году по сравнению с 1988 годом уменьшилось на {change_in_sports}\")"
   ]
  },
  {
   "cell_type": "code",
   "execution_count": 13,
   "id": "ab0f8471",
   "metadata": {},
   "outputs": [
    {
     "data": {
      "image/png": "[encoded data removed]",
      "text/plain": [
       "<Figure size 640x480 with 1 Axes>"
      ]
     },
     "metadata": {},
     "output_type": "display_data"
    }
   ],
   "source": [
    "#6) Постройте гистограмму распределения возраста мужчин-керлингистов \n",
    "#(Sport == ‘Curling’), участвовавших в олимпиаде 2014 года. Подсказка: для \n",
    "#построения гистограммы можно использовать функцию hist() из \n",
    "#библиотеки matplotlib с параметрами по умолчанию (либо можете \n",
    "#использовать любую другую функцию на свое усмотрение).\n",
    "# Примечание: для красивого вывода, настроил несколько параметров гистограммы (hist())\n",
    "curling_men_2014 = data[(data['Sport'] == 'Curling') & (data['Year'] == 2014) & (data['Sex'] == 'M')]\n",
    "plt.hist(curling_men_2014['Age'], bins=range(int(curling_men_2014['Age'].min()), int(curling_men_2014['Age'].max()) + 2), edgecolor='black', align='left')\n",
    "plt.title('Гистограмма распределения возраста мужчин-керлингистов, участвовавших в олимпиаде 2014 года')\n",
    "plt.xlabel('Возраст')\n",
    "plt.ylabel('Количество участников')\n",
    "plt.xlim(curling_men_2014['Age'].min(), curling_men_2014['Age'].max())\n",
    "plt.xticks(range(int(curling_men_2014['Age'].min()), int(curling_men_2014['Age'].max()) + 1))\n",
    "plt.show()"
   ]
  },
  {
   "cell_type": "code",
   "execution_count": 14,
   "id": "a53ccd94",
   "metadata": {},
   "outputs": [
    {
     "name": "stdout",
     "output_type": "stream",
     "text": [
      "Количество завоеванных медалей и средний возраст спортсменов зимней олимпиады 2006 года по странам:\n",
      "     Medal        Age\n",
      "NOC                  \n",
      "AUS      2  25.711111\n",
      "AUT     30  27.704545\n",
      "BLR      1  27.142857\n",
      "BUL      1  26.181818\n",
      "CAN     69  25.481967\n",
      "CHN     13  23.534247\n",
      "CRO      3  22.760870\n",
      "CZE     27  26.276471\n",
      "EST      3  25.634921\n",
      "FIN     41  26.614286\n",
      "FRA     15  26.283019\n",
      "GBR      1  26.851852\n",
      "GER     54  27.376426\n",
      "ITA     25  26.727586\n",
      "JPN      1  26.515789\n",
      "KOR     19  21.564706\n",
      "LAT      1  26.380435\n",
      "NED     13  25.873016\n",
      "NOR     23  28.186335\n",
      "POL      2  25.219780\n",
      "RUS     41  25.784452\n",
      "SUI     21  26.475138\n",
      "SVK      1  25.517544\n",
      "SWE     64  26.791667\n",
      "UKR      3  25.614679\n",
      "USA     52  25.818462\n"
     ]
    }
   ],
   "source": [
    "#7)  Рассмотрим зимнюю олимпиаду 2006 года. Сгруппируйте данные по стране \n",
    "#(используйте признак «NOC») и посчитайте для каждой страны количество \n",
    "#завоеванных медалей и средний возраст спортсменов. Выведите только те \n",
    "#страны, которые завоевали хотя бы одну медаль. \n",
    "# *Примечания: в условии 'зимнюю олимпиаду 2006', поэтому в условия можно добавить data['Season'] == 'Winter', хотя ОИ чередуют сезоны, \n",
    "# как и в 5 вопросе, здесь не стал добавлять\n",
    "medals_country_2006 = data[data['Year'] == 2006].groupby('NOC').agg({'Medal': 'count', 'Age': 'mean'})\n",
    "medals_country_2006 = medals_country_2006[medals_country_2006['Medal'] > 0]\n",
    "print(f'Количество завоеванных медалей и средний возраст спортсменов зимней олимпиады 2006 года по странам:\\n{medals_country_2006}')"
   ]
  },
  {
   "cell_type": "code",
   "execution_count": 15,
   "id": "c771e9cf",
   "metadata": {},
   "outputs": [
    {
     "name": "stdout",
     "output_type": "stream",
     "text": [
      "Количество завоеванных медалей по типу на зимней олимпиады 2006 года по странам:\n",
      "Medal  Bronze  Gold  Silver\n",
      "NOC                        \n",
      "AUS         1     1       0\n",
      "AUT         7    16       7\n",
      "BLR         0     0       1\n",
      "BUL         0     0       1\n",
      "CAN        11    30      28\n",
      "CHN         6     2       5\n",
      "CRO         0     1       2\n",
      "CZE        24     1       2\n",
      "EST         0     3       0\n",
      "FIN         7     0      34\n",
      "FRA        10     3       2\n",
      "GBR         0     0       1\n",
      "GER         6    23      25\n",
      "ITA        14    11       0\n",
      "JPN         0     1       0\n",
      "KOR         2    14       3\n",
      "LAT         1     0       0\n",
      "NED         8     3       2\n",
      "NOR        12     2       9\n",
      "POL         1     0       1\n",
      "RUS        13    16      12\n",
      "SUI         9     5       7\n",
      "SVK         0     0       1\n",
      "SWE         8    35      21\n",
      "UKR         3     0       0\n",
      "USA        32     9      11\n"
     ]
    }
   ],
   "source": [
    "#8) Продолжим рассматривать зимнюю олимпиаду 2006 года. Посчитайте, \n",
    "#сколько медалей каждого достоинства завоевала каждая из стран-участниц \n",
    "#(страны, не завоевавшие ни одной медали, можно не выводить). Для этого \n",
    "#сгруппируйте данные по стране и по виду медали. Представьте данные в \n",
    "#виде сводной таблицы (pivot_table). В сводной таблице не должно быть \n",
    "#отсутствующих значений (NaN), замените их на 0. \n",
    "medals_count_2006_2 = data[data['Year'] == 2006].pivot_table(index='NOC', columns='Medal', aggfunc='size', fill_value=0)\n",
    "print(f'Количество завоеванных медалей по типу на зимней олимпиады 2006 года по странам:\\n{medals_count_2006_2}')"
   ]
  }
 ],
 "metadata": {
  "kernelspec": {
   "display_name": "Python 3",
   "language": "python",
   "name": "python3"
  },
  "language_info": {
   "codemirror_mode": {
    "name": "ipython",
    "version": 3
   },
   "file_extension": ".py",
   "mimetype": "text/x-python",
   "name": "python",
   "nbconvert_exporter": "python",
   "pygments_lexer": "ipython3",
   "version": "3.11.9"
  }
 },
 "nbformat": 4,
 "nbformat_minor": 5
}
