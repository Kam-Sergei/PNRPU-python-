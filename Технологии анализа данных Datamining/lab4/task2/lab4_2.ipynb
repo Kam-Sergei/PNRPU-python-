{
 "cells": [
  {
   "cell_type": "code",
   "execution_count": null,
   "id": "fd2f52e5",
   "metadata": {},
   "outputs": [],
   "source": [
    "''' \n",
    "Задание 2 (6 баллов) \n",
    "Загрузите данные из файла «telecom_churn.csv» о клиентах оператора сотовой \n",
    "связи. Данные содержат, в числе прочих, следующие признаки: \n",
    "State – обозначение территории (штата) \n",
    "Area code – код города \n",
    "International plan – подключена ли услуга международного роуминга \n",
    "Number vmail messages – количество голосовых сообщений \n",
    "Total day minutes – суммарная продолжительность дневных звонков (в минутах) \n",
    "Total day calls – количество дневных звонков \n",
    "Total eve minutes, Total eve calls – аналогичные показатели по вечерним звонкам \n",
    "Total night minutes, Total night calls – аналогично по ночным звонкам \n",
    "Customer service calls – количество звонков в службу поддержки \n",
    "Churn – отток клиентов (False – клиент активен, True – клиент потерян, то есть \n",
    "расторг договор) \n",
    "Остальные столбцы можно сразу проигнорировать при загрузке данных. \n",
    "1. Выведите общую информацию о датафрейме с помощью методов info или describe. \n",
    "Есть ли отсутствующие данные? \n",
    "2. С помощью метода value_counts определите, сколько клиентов активны, а сколько \n",
    "потеряно. Сколько процентов клиентов в имеющихся данных активны, а сколько \n",
    "потеряны? \n",
    "3. Добавьте дополнительный столбец в датафрейм – средняя продолжительность \n",
    "одного звонка (вычислить как суммарная продолжительность всех звонков, \n",
    "деленная на суммарное количество всех звонков). Отсортируйте данные по этому \n",
    "значению по убыванию и выведите 10 первых записей. \n",
    "4. Сгруппируйте данные по значению поля «Churn» и вычислите среднюю \n",
    "продолжительность одного звонка в каждой категории. Есть ли существенная \n",
    "разница в средней продолжительности одного звонка между активными и \n",
    "потерянными клиентами? \n",
    "5. Сгруппируйте данные по значению поля «Churn» и вычислите среднее количество \n",
    "звонков в службу поддержки в каждой категории. Есть ли существенная разница \n",
    "между активными и потерянными клиентами? \n",
    "6. Исследуйте подробнее связь между параметрами «Churn» и «Customer service calls», \n",
    "построив таблицу сопряженности (факторную таблицу) по этим признакам. \n",
    "Подсказка: используйте функцию crosstab. При каком количестве звонков в \n",
    "службу поддержки процент оттока становится существенно выше, чем в целом по \n",
    "датафрейму? (В качестве уточнения фразы «существенно выше» можете \n",
    "использовать «более 40%».) \n",
    "7. Аналогично предыдущему пункту исследуйте связь между параметрами «Churn» и \n",
    "«International plan». Можно ли утверждать, что процент оттока среди клиентов, \n",
    "использующих международный роуминг, существенно выше или ниже, чем среди \n",
    "клиентов, не использующих его? \n",
    "8. Добавьте в датафрейм столбец «Прогнозируемый отток», заполнив его на основе \n",
    "значений столбцов «Customer service calls» и «International plan». Сравните \n",
    "значение в этом столбце со значением столбца «Churn». Если мы будем \n",
    "пользоваться построенным прогнозом, то какой процент ошибок первого и \n",
    "второго рода (ложноположительных и ложноотрицательных) мы получим? \n",
    "'''"
   ]
  },
  {
   "cell_type": "code",
   "execution_count": 1,
   "id": "3cac428e",
   "metadata": {},
   "outputs": [],
   "source": [
    "# Импорт необходимых библиотек\n",
    "import pandas as pd"
   ]
  },
  {
   "cell_type": "code",
   "execution_count": 2,
   "id": "89cb9c79",
   "metadata": {},
   "outputs": [],
   "source": [
    "# Загрузка данных\n",
    "data = pd.read_csv('telecom_churn.csv')"
   ]
  },
  {
   "cell_type": "code",
   "execution_count": 3,
   "id": "000d1227",
   "metadata": {},
   "outputs": [
    {
     "name": "stdout",
     "output_type": "stream",
     "text": [
      "Информация о загруженных данных:\n",
      "<class 'pandas.core.frame.DataFrame'>\n",
      "RangeIndex: 3333 entries, 0 to 3332\n",
      "Data columns (total 20 columns):\n",
      " #   Column                  Non-Null Count  Dtype  \n",
      "---  ------                  --------------  -----  \n",
      " 0   State                   3333 non-null   object \n",
      " 1   Account length          3333 non-null   int64  \n",
      " 2   Area code               3333 non-null   int64  \n",
      " 3   International plan      3333 non-null   object \n",
      " 4   Voice mail plan         3333 non-null   object \n",
      " 5   Number vmail messages   3333 non-null   int64  \n",
      " 6   Total day minutes       3333 non-null   float64\n",
      " 7   Total day calls         3333 non-null   int64  \n",
      " 8   Total day charge        3333 non-null   float64\n",
      " 9   Total eve minutes       3333 non-null   float64\n",
      " 10  Total eve calls         3333 non-null   int64  \n",
      " 11  Total eve charge        3333 non-null   float64\n",
      " 12  Total night minutes     3333 non-null   float64\n",
      " 13  Total night calls       3333 non-null   int64  \n",
      " 14  Total night charge      3333 non-null   float64\n",
      " 15  Total intl minutes      3333 non-null   float64\n",
      " 16  Total intl calls        3333 non-null   int64  \n",
      " 17  Total intl charge       3333 non-null   float64\n",
      " 18  Customer service calls  3333 non-null   int64  \n",
      " 19  Churn                   3333 non-null   bool   \n",
      "dtypes: bool(1), float64(8), int64(8), object(3)\n",
      "memory usage: 498.1+ KB\n",
      "None\n"
     ]
    }
   ],
   "source": [
    "#1. Выведите общую информацию о датафрейме с помощью методов info или describe. \n",
    "#Есть ли отсутствующие данные? \n",
    "# Вывод общей информации о датафрейме\n",
    "print('Информация о загруженных данных:')\n",
    "print(data.info())"
   ]
  },
  {
   "cell_type": "code",
   "execution_count": 4,
   "id": "b49b38cf",
   "metadata": {},
   "outputs": [
    {
     "name": "stdout",
     "output_type": "stream",
     "text": [
      "Признаки, содержащие не все данные, и количество их пропусков:\n",
      "Series([], dtype: int64)\n"
     ]
    }
   ],
   "source": [
    "# Поиск признаков с отсутствующими данными\n",
    "missing_data = data.isnull().sum()\n",
    "print(f'Признаки, содержащие не все данные, и количество их пропусков:\\n{missing_data[missing_data > 0]}')\n",
    "# Как видно из вывода ниже, пропусков нет."
   ]
  },
  {
   "cell_type": "code",
   "execution_count": 5,
   "id": "729d5e9a",
   "metadata": {},
   "outputs": [
    {
     "name": "stdout",
     "output_type": "stream",
     "text": [
      "Количество активных и потерянных клиентов (False – клиент активен, True – клиент потерян):\n",
      "Churn\n",
      "False    2850\n",
      "True      483\n",
      "Name: count, dtype: int64\n",
      "Процентное соотношение активных и потерянных клиентов (False – клиент активен, True – клиент потерян):\n",
      "Churn\n",
      "False    85.508551\n",
      "True     14.491449\n",
      "Name: count, dtype: float64\n"
     ]
    }
   ],
   "source": [
    "#2. С помощью метода value_counts определите, сколько клиентов активны, а сколько \n",
    "#потеряно. Сколько процентов клиентов в имеющихся данных активны, а сколько потеряны? \n",
    "churn_counts = data['Churn'].value_counts()\n",
    "print(f'Количество активных и потерянных клиентов (False – клиент активен, True – клиент потерян):\\n{churn_counts}')\n",
    "churn_percentage = churn_counts / len(data) * 100\n",
    "print(f'Процентное соотношение активных и потерянных клиентов (False – клиент активен, True – клиент потерян):\\n{churn_percentage}')"
   ]
  },
  {
   "cell_type": "code",
   "execution_count": 6,
   "id": "83f33600",
   "metadata": {},
   "outputs": [
    {
     "name": "stdout",
     "output_type": "stream",
     "text": [
      "Первые 10 записей, отсортированных данных по средней продолжительности одного звонка, по убыванию:\n",
      "     State  Average Call Duration\n",
      "985     NY               3.693644\n",
      "2824    OR               3.599519\n",
      "244     VA               3.509402\n",
      "2321    AR               3.429258\n",
      "2033    NJ               3.351121\n",
      "1709    NV               3.347872\n",
      "2536    CT               3.325806\n",
      "1686    CT               3.222624\n",
      "649     MO               3.197368\n",
      "2289    MS               3.181498\n"
     ]
    }
   ],
   "source": [
    "#3. Добавьте дополнительный столбец в датафрейм – средняя продолжительность \n",
    "#одного звонка (вычислить как суммарная продолжительность всех звонков, \n",
    "#деленная на суммарное количество всех звонков). Отсортируйте данные по этому \n",
    "#значению по убыванию и выведите 10 первых записей. \n",
    "data['Average Call Duration'] = (data['Total day minutes'] + data['Total eve minutes'] + data['Total night minutes'])\\\n",
    "    / (data['Total day calls'] + data['Total eve calls'] + data['Total night calls'])\n",
    "top_calls = data.sort_values(by='Average Call Duration', ascending=False).head(10) # ascending=False - сортировка должна быть выполнена в порядке убывания.\n",
    "print(f\"Первые 10 записей, отсортированных данных по средней продолжительности одного звонка, по убыванию:\\n{top_calls[['State', 'Average Call Duration']]}\")"
   ]
  },
  {
   "cell_type": "code",
   "execution_count": 7,
   "id": "0ab172e7",
   "metadata": {},
   "outputs": [
    {
     "name": "stdout",
     "output_type": "stream",
     "text": [
      "Средняя продолжительность одного звонка у активных и потерянных клиентов (False – клиент активен, True – клиент потерян):\n",
      "Churn\n",
      "False    1.938102\n",
      "True     2.091193\n",
      "Name: Average Call Duration, dtype: float64\n",
      "Средняя продолжительность звонка у потерянных клиентов по отношению к активным клиентам составляеет 107.89903156062977 %\n"
     ]
    }
   ],
   "source": [
    "#4. Сгруппируйте данные по значению поля «Churn» и вычислите среднюю \n",
    "#продолжительность одного звонка в каждой категории. Есть ли существенная \n",
    "#разница в средней продолжительности одного звонка между активными и \n",
    "#потерянными клиентами? \n",
    "avg_call_duration_by_churn = data.groupby('Churn')['Average Call Duration'].mean()\n",
    "print(f'Средняя продолжительность одного звонка у активных и потерянных клиентов (False – клиент активен, True – клиент потерян):\\n{avg_call_duration_by_churn}')\n",
    "print(f'Средняя продолжительность звонка у потерянных клиентов по отношению к активным клиентам составляеет \\\n",
    "{avg_call_duration_by_churn[True]/avg_call_duration_by_churn[False]*100} %')\n",
    "# Вывод: как видно из вывода ниже существенной разницы в средней продолжительности одного звонка между активными и потерянными клиентами нет, всего на 7-8 % больше у потерянных"
   ]
  },
  {
   "cell_type": "code",
   "execution_count": 8,
   "id": "38ce14b1",
   "metadata": {},
   "outputs": [
    {
     "name": "stdout",
     "output_type": "stream",
     "text": [
      "Среднее количество звонков в службу поддержки у активных и потерянных клиентов (False – клиент активен, True – клиент потерян):\n",
      "Churn\n",
      "False    1.449825\n",
      "True     2.229814\n",
      "Name: Customer service calls, dtype: float64\n",
      "Среднее количество звонков в службу поддержки у потерянных клиентов по отношению к активным клиентам составляеет 153.79886118343123 %\n"
     ]
    }
   ],
   "source": [
    "#5. Сгруппируйте данные по значению поля «Churn» и вычислите среднее количество \n",
    "#звонков в службу поддержки в каждой категории. Есть ли существенная разница \n",
    "#между активными и потерянными клиентами? \n",
    "avg_service_calls_by_churn = data.groupby('Churn')['Customer service calls'].mean()\n",
    "print(f'Среднее количество звонков в службу поддержки у активных и потерянных клиентов (False – клиент активен, True – клиент потерян):\\n{avg_service_calls_by_churn}')\n",
    "print(f'Среднее количество звонков в службу поддержки у потерянных клиентов по отношению к активным клиентам составляеет \\\n",
    "{avg_service_calls_by_churn[True]/avg_service_calls_by_churn[False]*100} %')\n",
    "# Вывод: как видно из вывода ниже есть существенная разница в среднем количестве звонков в службу поддержки между активными и потерянными клиентами, \n",
    "# потеренные клиенты на 53-54% звонили в службу поддержки больше, чем активные клиенты (*недовольство службой поддержки может быть причиной ухода)"
   ]
  },
  {
   "cell_type": "code",
   "execution_count": 9,
   "id": "1b9a028d",
   "metadata": {},
   "outputs": [
    {
     "name": "stdout",
     "output_type": "stream",
     "text": [
      "Таблица сопряженности между параметрами «Churn» и «Customer service calls»:\n",
      "Churn                   False  True \n",
      "Customer service calls              \n",
      "0                         605     92\n",
      "1                        1059    122\n",
      "2                         672     87\n",
      "3                         385     44\n",
      "4                          90     76\n",
      "5                          26     40\n",
      "6                           8     14\n",
      "7                           4      5\n",
      "8                           1      1\n",
      "9                           0      2\n"
     ]
    }
   ],
   "source": [
    "#6. Исследуйте подробнее связь между параметрами «Churn» и «Customer service calls», \n",
    "#построив таблицу сопряженности (факторную таблицу) по этим признакам. \n",
    "#Подсказка: используйте функцию crosstab. При каком количестве звонков в \n",
    "#службу поддержки процент оттока становится существенно выше, чем в целом по \n",
    "#датафрейму? (В качестве уточнения фразы «существенно выше» можете \n",
    "#использовать «более 40%».) \n",
    "\n",
    "# Создание таблицы сопряженности\n",
    "crosstab_service_calls_churn = pd.crosstab(data['Customer service calls'], data['Churn'])\n",
    "print(f'Таблица сопряженности между параметрами «Churn» и «Customer service calls»:\\n{crosstab_service_calls_churn}')\n"
   ]
  },
  {
   "cell_type": "code",
   "execution_count": 10,
   "id": "f9f67033",
   "metadata": {},
   "outputs": [
    {
     "name": "stdout",
     "output_type": "stream",
     "text": [
      "Процентное соотношение активных и потерянных клиентов по количеству звонков в службу поддержки:\n",
      "Churn                       False       True \n",
      "Customer service calls                       \n",
      "0                       86.800574   13.199426\n",
      "1                       89.669771   10.330229\n",
      "2                       88.537549   11.462451\n",
      "3                       89.743590   10.256410\n",
      "4                       54.216867   45.783133\n",
      "5                       39.393939   60.606061\n",
      "6                       36.363636   63.636364\n",
      "7                       44.444444   55.555556\n",
      "8                       50.000000   50.000000\n",
      "9                        0.000000  100.000000\n"
     ]
    }
   ],
   "source": [
    "# Вычисление процента для каждого количества звонков в службу поддержки\n",
    "crosstab_service_calls_churn_percentage = crosstab_service_calls_churn.div(crosstab_service_calls_churn.sum(axis=1), axis=0) * 100\n",
    "print(f'Процентное соотношение активных и потерянных клиентов по количеству звонков в службу поддержки:\\n{crosstab_service_calls_churn_percentage}')\n"
   ]
  },
  {
   "cell_type": "code",
   "execution_count": 11,
   "id": "740c50da",
   "metadata": {},
   "outputs": [
    {
     "name": "stdout",
     "output_type": "stream",
     "text": [
      "Количество звонков в службу поддержки, при котором отток клиентов становиться существенно выше (более 40%):\n",
      "Churn                       False       True \n",
      "Customer service calls                       \n",
      "4                       54.216867   45.783133\n",
      "5                       39.393939   60.606061\n",
      "6                       36.363636   63.636364\n",
      "7                       44.444444   55.555556\n",
      "8                       50.000000   50.000000\n",
      "9                        0.000000  100.000000\n"
     ]
    }
   ],
   "source": [
    "# Поиск количества звонков, при котором процент оттока превышает 40%\n",
    "high_churn_calls = crosstab_service_calls_churn_percentage[crosstab_service_calls_churn_percentage[True] > 40]\n",
    "print(f'Количество звонков в службу поддержки, при котором отток клиентов становиться существенно выше (более 40%):\\n{high_churn_calls}')\n",
    "# Вывод: как видно из вывода ниже с 4 звонков в службу поддержки процент оттока становится существенно выше."
   ]
  },
  {
   "cell_type": "code",
   "execution_count": 12,
   "id": "0a22cb38",
   "metadata": {},
   "outputs": [
    {
     "name": "stdout",
     "output_type": "stream",
     "text": [
      "Таблица сопряженности между Churn и International plan:\n",
      "Churn               False  True \n",
      "International plan              \n",
      "No                   2664    346\n",
      "Yes                   186    137\n"
     ]
    }
   ],
   "source": [
    "#7. Аналогично предыдущему пункту исследуйте связь между параметрами «Churn» и \n",
    "#«International plan». Можно ли утверждать, что процент оттока среди клиентов, \n",
    "#использующих международный роуминг, существенно выше или ниже, чем среди \n",
    "#клиентов, не использующих его? \n",
    "\n",
    "# Таблица сопряженности между Churn и International plan\n",
    "crosstab_international_plan = pd.crosstab(data['International plan'], data['Churn'])\n",
    "print(f'Таблица сопряженности между Churn и International plan:\\n{crosstab_international_plan}')"
   ]
  },
  {
   "cell_type": "code",
   "execution_count": 13,
   "id": "ae3457d4",
   "metadata": {},
   "outputs": [
    {
     "name": "stdout",
     "output_type": "stream",
     "text": [
      "Процентное соотношение активных и потерянных клиентов с учетом подключена ли услуга международного роуминга:\n",
      "Churn                   False      True \n",
      "International plan                      \n",
      "No                  88.504983  11.495017\n",
      "Yes                 57.585139  42.414861\n"
     ]
    }
   ],
   "source": [
    "# Вычисление процента для клиентов с учетом подключена ли услуга международного роуминга\n",
    "international_plan_percentage = crosstab_international_plan.div(crosstab_international_plan.sum(axis=1), axis=0) * 100\n",
    "print(f'Процентное соотношение активных и потерянных клиентов с учетом подключена ли услуга международного роуминга:\\n{international_plan_percentage}')\n",
    "# Вывод: процент оттока среди клиентов, использующих международный роуминг существенно выше , чем среди клиентов, не использующих его (42% против 11%, почти в 4 раза по %).\n",
    "# (*недовольство международным роумингом может быть причиной ухода)"
   ]
  },
  {
   "cell_type": "code",
   "execution_count": 14,
   "id": "bcc04d3c",
   "metadata": {},
   "outputs": [
    {
     "name": "stdout",
     "output_type": "stream",
     "text": [
      "Клиент ПОТЕРЯН, если одно из условий выполняется:\n",
      "Процент ошибок первого рода (ложноположительных): 26.70807453416149 %\n",
      "Процент ошибок второго рода (ложноотрицательных): 12.105263157894736 %\n",
      "Общий процент ошибок: 14.221422142214221 %\n"
     ]
    }
   ],
   "source": [
    "#8. Добавьте в датафрейм столбец «Прогнозируемый отток», заполнив его на основе \n",
    "#значений столбцов «Customer service calls» и «International plan». Сравните \n",
    "#значение в этом столбце со значением столбца «Churn». Если мы будем \n",
    "#пользоваться построенным прогнозом, то какой процент ошибок первого и \n",
    "#второго рода (ложноположительных и ложноотрицательных) мы получим? \n",
    "\n",
    "# Добавление столбца \"Прогнозируемый отток\" для этого по предыдущим выводам сделает так, \n",
    "# что если Customer service calls (количество звонков в службу поддержки) от 4 ИЛИ International plan (подключена ли услуга международного роуминга) yes-подключена\n",
    "# то клиент прогнозируемо ПОТЕРЯН (хотябы одно условие выполняется)\n",
    "data['Predicted Churn'] = ((data['Customer service calls'] >= 4) | (data['International plan'] == 'yes')).astype(bool)\n",
    "\n",
    "true_churn = (data['Churn'] == True).sum() # Количество положительных\n",
    "false_churn = (data['Churn'] == False).sum() # Количество отрицательных\n",
    "false_true = ((data['Predicted Churn'] == True) & (data['Churn'] == False)).sum() # Количество ложноположительных\n",
    "false_false = ((data['Predicted Churn'] == False) & (data['Churn'] == True)).sum() #  Количество ложноотрицательных\n",
    "\n",
    "# Процент ошибок первого и второго рода\n",
    "error_first_type = false_true / true_churn * 100\n",
    "error_second_type = false_false / false_churn * 100\n",
    "error_full = (false_true + false_false) / (true_churn + false_churn) * 100\n",
    "print('Клиент ПОТЕРЯН, если одно из условий выполняется:')\n",
    "print(f'Процент ошибок первого рода (ложноположительных): {error_first_type} %')\n",
    "print(f'Процент ошибок второго рода (ложноотрицательных): {error_second_type} %')\n",
    "print(f'Общий процент ошибок: {error_full} %')"
   ]
  },
  {
   "cell_type": "code",
   "execution_count": 15,
   "id": "22e773c0",
   "metadata": {},
   "outputs": [
    {
     "name": "stdout",
     "output_type": "stream",
     "text": [
      "Клиент ПОТЕРЯН, если оба из условий выполняется:\n",
      "Процент ошибок первого рода (ложноположительных): 0.0 %\n",
      "Процент ошибок второго рода (ложноотрицательных): 16.94736842105263 %\n",
      "Общий процент ошибок: 14.491449144914492 %\n"
     ]
    }
   ],
   "source": [
    "# Теперь сделаем так, чтобы клиент был ПОТЕРЯН, если оба условия выполняются\n",
    "data['Predicted Churn'] = ((data['Customer service calls'] >= 4) & (data['International plan'] == 'yes')).astype(bool)\n",
    "\n",
    "true_churn = (data['Churn'] == True).sum() # Количество положительных\n",
    "false_churn = (data['Churn'] == False).sum() # Количество отрицательных\n",
    "false_true = ((data['Predicted Churn'] == True) & (data['Churn'] == False)).sum() # Количество ложноположительных\n",
    "false_false = ((data['Predicted Churn'] == False) & (data['Churn'] == True)).sum() #  Количество ложноотрицательных\n",
    "\n",
    "# Процент ошибок первого и второго рода\n",
    "error_first_type = false_true / true_churn * 100\n",
    "error_second_type = false_false / false_churn * 100\n",
    "error_full = (false_true + false_false) / (true_churn + false_churn) * 100\n",
    "print('Клиент ПОТЕРЯН, если оба из условий выполняется:')\n",
    "print(f'Процент ошибок первого рода (ложноположительных): {error_first_type} %')\n",
    "print(f'Процент ошибок второго рода (ложноотрицательных): {error_second_type} %')\n",
    "print(f'Общий процент ошибок: {error_full} %')"
   ]
  },
  {
   "cell_type": "code",
   "execution_count": null,
   "id": "50baaf10",
   "metadata": {},
   "outputs": [],
   "source": [
    "# Вывод: в обоих случаях общий процент ошибок составил около 14%, в случае когда обо условия выполняются - ложноположительных нет,\n",
    "# то есть клиенты точно уйдут (ПОТЕРЯНЫ), если количество звонков в службу поддержки от 4 и подключена услуга международного роуминга.\n",
    "# Результат прогноза можно считать ПРИЕМЛЕМЫЙ (ошибка составляет 14-15%), для некоторых задач может подойти (в зависимости какая точность будет требоваться)."
   ]
  }
 ],
 "metadata": {
  "kernelspec": {
   "display_name": "Python 3",
   "language": "python",
   "name": "python3"
  },
  "language_info": {
   "codemirror_mode": {
    "name": "ipython",
    "version": 3
   },
   "file_extension": ".py",
   "mimetype": "text/x-python",
   "name": "python",
   "nbconvert_exporter": "python",
   "pygments_lexer": "ipython3",
   "version": "3.11.9"
  }
 },
 "nbformat": 4,
 "nbformat_minor": 5
}
