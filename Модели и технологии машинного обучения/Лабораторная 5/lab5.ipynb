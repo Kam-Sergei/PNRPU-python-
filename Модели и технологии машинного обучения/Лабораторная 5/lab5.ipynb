{
 "cells": [
  {
   "cell_type": "code",
   "execution_count": null,
   "metadata": {},
   "outputs": [],
   "source": [
    "''' \n",
    "Лабораторная работа №5: Реализация голосового ввода для управления функциями информационных систем\n",
    "1. Необходимо реализовать модуль, который записывает команду голосом с микрофона по умолчанию, превращает ее в текст, извлекает из текста\n",
    "ключевые слова, если находит в ключевых словах команду, выполняет ее.\n",
    "2. Для этого нужно создать виртуальную среду python -m venv ./venv\n",
    "3. Установить библиотеку для записи аудио pyminiaudio (GitHub-irmen/pyminiaudio: python interface to the miniaudio audio playback, recording,decoding and conversion library) \n",
    "или pyaudio (PyAudio: Cross-platform audio I/O for Python, with PortAudio)\n",
    "4. Установить платформу для распознавания речи Whisper (GitHub-openai/whisper: Robust Speech Recognition via Large-Scale Weak Supervision):\n",
    "pip install git+https://github.com/openai/whisper.git\n",
    "5. Реализовать препроцессинг голосовой команды и извлечение ключевых слов для вариантов ниже:\n",
    " 1. для генерации ссылки на поиск, например, в Яндексе произвольного текста в браузере по умолчанию\n",
    " 2. для открытия видеофайла из файловой системы в плеере по умолчанию или поиска видео на каком-либе видеосервисе\n",
    " 3. для запуска любого приложения для коммуникации (ВК, Телеграм и т.п.) и ввода сообщения в окне мессенджера\n",
    "6. Для этого каждую команду необходимо предварительно обработать: токенизировать (изучите NLTK и конкретно nltk.tokenize ) и нормализовать\n",
    "(лемматизировать) (через pymorphy3).\n",
    "7. Реализовать через subprocess или иные средства выполнение указанных команд\n",
    "8. Установить ollama: Ollama, выбрать подходящие локальные модели (deepseek-r1, qwq, Qwen-2.5-coder и т.д.)\n",
    "9. Реализовать взаимодействие с моделью через голосовой ввод и Ollama API.\n",
    "10. Реализовать на языке C++ алгоритмы сортировки пузырьком, выбором, вставками, подсчетом, блочную сортировку и сортировку простым слиянием\n",
    "посредством ввода голосовых инструкций LLM (возможные ошибки тоже корректировать через инструктирование модели).\n",
    "'''"
   ]
  },
  {
   "cell_type": "code",
   "execution_count": 8,
   "metadata": {},
   "outputs": [
    {
     "name": "stderr",
     "output_type": "stream",
     "text": [
      "[nltk_data] Downloading package punkt to\n",
      "[nltk_data]     C:\\Users\\sergei\\AppData\\Roaming\\nltk_data...\n",
      "[nltk_data]   Package punkt is already up-to-date!\n"
     ]
    },
    {
     "name": "stdout",
     "output_type": "stream",
     "text": [
      "Запись... (время записи 5 секунд)\n",
      "Запись завершена.\n",
      "Файл command.wav успешно создан.\n",
      "{'text': '', 'segments': [], 'language': 'nn'}\n",
      "Неизвестная команда.\n"
     ]
    }
   ],
   "source": [
    "import os\n",
    "import pyaudio\n",
    "import wave\n",
    "import whisper\n",
    "import nltk\n",
    "from nltk.tokenize import word_tokenize\n",
    "from pymorphy3 import MorphAnalyzer\n",
    "import subprocess\n",
    "import os\n",
    "import pyautogui\n",
    "import time\n",
    "\n",
    "\n",
    "# Загрузите модель Whisper\n",
    "model = whisper.load_model(\"base\")  # Выберите нужную модель\n",
    "\n",
    "# Загрузите NLTK ресурсы\n",
    "nltk.download('punkt')\n",
    "\n",
    "# Инициализация морфологического анализатора\n",
    "morph = MorphAnalyzer()\n",
    "\n",
    "# Функция для записи аудио с микрофона\n",
    "def record_audio(filename):\n",
    "    chunk = 1024  # Размер блока\n",
    "    format = pyaudio.paInt16  # Формат аудио\n",
    "    channels = 1  # Количество каналов\n",
    "    rate = 44100  # Частота дискретизации\n",
    "    record_seconds = 5  # Время записи в секундах\n",
    "    p = pyaudio.PyAudio()\n",
    "    stream = p.open(format=format, channels=channels,\n",
    "                    rate=rate, input=True,\n",
    "                    frames_per_buffer=chunk)\n",
    "    print(\"Запись... (время записи 5 секунд)\")\n",
    "    frames = []\n",
    "    for _ in range(0, int(rate / chunk * record_seconds)):\n",
    "        data = stream.read(chunk)\n",
    "        frames.append(data)\n",
    "    print(\"Запись завершена.\")\n",
    "    stream.stop_stream()\n",
    "    stream.close()\n",
    "    p.terminate()\n",
    "    with wave.open(filename, 'wb') as wf:\n",
    "        wf.setnchannels(channels)\n",
    "        wf.setsampwidth(p.get_sample_size(format))\n",
    "        wf.setframerate(rate)\n",
    "        wf.writeframes(b''.join(frames))\n",
    "    # Проверка, создан ли файл\n",
    "    if os.path.exists(filename):\n",
    "        print(f\"Файл {filename} успешно создан.\")\n",
    "    else:\n",
    "        print(f\"Не удалось создать файл {filename}.\")\n",
    "\n",
    "def transcribe_audio(filename):\n",
    "    result = model.transcribe(filename)\n",
    "    return result['text']\n",
    "\n",
    "def process_command(command):\n",
    "    # Токенизация и лемматизация\n",
    "    tokens = word_tokenize(command.lower())\n",
    "    lemmatized_tokens = [morph.parse(token)[0].normal_form for token in tokens]\n",
    "    if \"поиск\" in lemmatized_tokens:\n",
    "        query = ' '.join(lemmatized_tokens[lemmatized_tokens.index(\"поиск\")+1:])\n",
    "        search_yandex(query)\n",
    "    elif \"видео\" in lemmatized_tokens:\n",
    "        open_video(lemmatized_tokens)\n",
    "    elif \"телеграм\" in lemmatized_tokens:\n",
    "        send_message(lemmatized_tokens)\n",
    "    else:\n",
    "        print(\"Неизвестная команда.\")\n",
    "\n",
    "# Поиск в интернете\n",
    "def search_yandex(query):\n",
    "    url = f\"https://yandex.ru/search/?text={query}\"\n",
    "    print(f\"Открытие ссылки: {url}\")\n",
    "    subprocess.run([\"start\", \"browser\", url], shell=True)  # Для Windows\n",
    "\n",
    "# Открытие видео\n",
    "def open_video(tokens):\n",
    "    # Найти индекс слова \"видео\"\n",
    "    try:\n",
    "        video_idx = tokens.index(\"видео\")\n",
    "    except ValueError:\n",
    "        print(\"Команда для видео некорректна.\")\n",
    "        return\n",
    "    # Собрать название файла из слов после \"видео\"\n",
    "    filename_tokens = tokens[video_idx + 1:]\n",
    "    if not filename_tokens:\n",
    "        print(\"Не указано название файла после слова 'видео'.\")\n",
    "        return\n",
    "    filename = ' '.join(filename_tokens)\n",
    "    # Добавьте расширение, если его нет\n",
    "    if not filename.lower().endswith('.mpeg'):\n",
    "        filename += '.mpeg'\n",
    "    if os.path.exists(filename):\n",
    "        print(f\"Открытие видеофайла: {filename}\")\n",
    "        subprocess.run([\"start\", filename], shell=True)  # Для Windows\n",
    "    else:\n",
    "        print(f\"Файл не найден: {filename}\")\n",
    "\n",
    "# Открытие телеграмма\n",
    "def send_message(tokens):\n",
    "    message = ' '.join(tokens[tokens.index(\"телеграм\") + 1:])  # Изменено на \"телеграм\" \n",
    "    if not message:\n",
    "        print(\"Не указано сообщение для отправки.\")\n",
    "        return\n",
    "    # Открытие Telegram (если он еще не открыт)\n",
    "    print(f\"Открытие телеграмма: {message}\")\n",
    "    subprocess.run([\"start\", \"Telegram\"], shell=True)  # Убедитесь, что путь к Telegram корректен\n",
    "    time.sleep(5)  # Даем время на загрузку приложения\n",
    "    # Поиск нужного чата (например, по имени контакта)\n",
    "    pyautogui.hotkey('ctrl', 'f')  # Открытие поиска\n",
    "    time.sleep(1)  # Небольшая пауза\n",
    "    pyautogui.typewrite(\"Имя контакта или группы\")  # Замените на имя нужного контакта\n",
    "    time.sleep(1)  # Небольшая пауза\n",
    "    # Выбор контакта из списка\n",
    "    pyautogui.press('enter')\n",
    "    time.sleep(1)  # Небольшая пауза\n",
    "    # Ввод сообщения\n",
    "    pyautogui.typewrite(message)\n",
    "    time.sleep(1)  # Небольшая пауза\n",
    "    # Отправка сообщения\n",
    "    #pyautogui.press('enter')\n",
    "    #print(f\"Отправка сообщения: {message}\")\n",
    "\n",
    "def main():\n",
    "    audio_file = \"command.wav\"\n",
    "    record_audio(audio_file)\n",
    "    model = whisper.load_model(\"base\")\n",
    "    command_text = transcribe_audio(audio_file)\n",
    "    result = model.transcribe(audio_file)\n",
    "    print (result)\n",
    "    process_command(command_text)\n",
    "\n",
    "if __name__ == \"__main__\":\n",
    "    main()"
   ]
  },
  {
   "cell_type": "code",
   "execution_count": 4,
   "metadata": {},
   "outputs": [
    {
     "name": "stdout",
     "output_type": "stream",
     "text": [
      "Запись... (время записи 5 секунд)\n",
      "Запись завершена.\n",
      "Файл command.wav успешно создан.\n",
      "{'text': ' поиск 1 тигр 2 3', 'segments': [{'id': 0, 'seek': 0, 'start': 0.0, 'end': 6.4, 'text': ' поиск 1 тигр 2 3', 'tokens': [50364, 2801, 3323, 755, 502, 1069, 35600, 568, 805, 50684], 'temperature': 0.0, 'avg_logprob': -0.7692571119828657, 'compression_ratio': 0.6944444444444444, 'no_speech_prob': 0.10174372047185898}], 'language': 'ru'}\n",
      "Открытие ссылки: https://yandex.ru/search/?text=1 тигр 2 3\n"
     ]
    }
   ],
   "source": [
    "# Помск в интернете\n",
    "audio_file = \"command.wav\"\n",
    "record_audio(audio_file)\n",
    "model = whisper.load_model(\"base\")\n",
    "command_text = transcribe_audio(audio_file)\n",
    "result = model.transcribe(audio_file)\n",
    "print (result)\n",
    "process_command(command_text)"
   ]
  },
  {
   "cell_type": "code",
   "execution_count": 6,
   "metadata": {},
   "outputs": [
    {
     "name": "stdout",
     "output_type": "stream",
     "text": [
      "Запись... (время записи 5 секунд)\n",
      "Запись завершена.\n",
      "Файл command.wav успешно создан.\n",
      "{'text': ' видео тигр', 'segments': [{'id': 0, 'seek': 0, 'start': 0.0, 'end': 3.7600000000000002, 'text': ' видео тигр', 'tokens': [50364, 15589, 1069, 35600, 50552], 'temperature': 0.0, 'avg_logprob': -0.9439678986867269, 'compression_ratio': 0.7037037037037037, 'no_speech_prob': 0.18473391234874725}], 'language': 'ru'}\n",
      "Открытие видеофайла: тигр.mpeg\n"
     ]
    }
   ],
   "source": [
    "# Открытие видео\n",
    "audio_file = \"command.wav\"\n",
    "record_audio(audio_file)\n",
    "model = whisper.load_model(\"base\")\n",
    "command_text = transcribe_audio(audio_file)\n",
    "result = model.transcribe(audio_file)\n",
    "print (result)\n",
    "process_command(command_text)"
   ]
  },
  {
   "cell_type": "code",
   "execution_count": 12,
   "metadata": {},
   "outputs": [
    {
     "name": "stdout",
     "output_type": "stream",
     "text": [
      "Запись... (время записи 5 секунд)\n",
      "Запись завершена.\n",
      "Файл command.wav успешно создан.\n",
      "{'text': ' Телеграм 1,2,3', 'segments': [{'id': 0, 'seek': 0, 'start': 0.0, 'end': 4.0, 'text': ' Телеграм 1,2,3', 'tokens': [50364, 3200, 1414, 4953, 15837, 502, 11, 17, 11, 18, 50564], 'temperature': 0.0, 'avg_logprob': -0.5748924414316813, 'compression_ratio': 0.7333333333333333, 'no_speech_prob': 0.2935825288295746}], 'language': 'ru'}\n",
      "Открытие телеграмма: 1,2,3\n"
     ]
    }
   ],
   "source": [
    "# Открытие телеграмма\n",
    "audio_file = \"command.wav\"\n",
    "record_audio(audio_file)\n",
    "model = whisper.load_model(\"base\")\n",
    "command_text = transcribe_audio(audio_file)\n",
    "result = model.transcribe(audio_file)\n",
    "print (result)\n",
    "process_command(command_text)"
   ]
  },
  {
   "cell_type": "code",
   "execution_count": 8,
   "metadata": {},
   "outputs": [
    {
     "name": "stdout",
     "output_type": "stream",
     "text": [
      "Запись... (время записи 5 секунд)\n",
      "Запись завершена.\n",
      "Файл command.wav успешно создан.\n",
      "{'text': ' 1-2 работа', 'segments': [{'id': 0, 'seek': 0, 'start': 0.0, 'end': 4.0, 'text': ' 1-2 работа', 'tokens': [50364, 502, 12, 17, 9197, 386, 50564], 'temperature': 0.0, 'avg_logprob': -0.6208469867706299, 'compression_ratio': 0.64, 'no_speech_prob': 0.10215211659669876}], 'language': 'ru'}\n",
      "Неизвестная команда.\n"
     ]
    }
   ],
   "source": [
    "# Нераспознанная команда\n",
    "audio_file = \"command.wav\"\n",
    "record_audio(audio_file)\n",
    "model = whisper.load_model(\"base\")\n",
    "command_text = transcribe_audio(audio_file)\n",
    "result = model.transcribe(audio_file)\n",
    "print (result)\n",
    "process_command(command_text)"
   ]
  }
 ],
 "metadata": {
  "kernelspec": {
   "display_name": "Python 3",
   "language": "python",
   "name": "python3"
  },
  "language_info": {
   "codemirror_mode": {
    "name": "ipython",
    "version": 3
   },
   "file_extension": ".py",
   "mimetype": "text/x-python",
   "name": "python",
   "nbconvert_exporter": "python",
   "pygments_lexer": "ipython3",
   "version": "3.11.9"
  }
 },
 "nbformat": 4,
 "nbformat_minor": 2
}
